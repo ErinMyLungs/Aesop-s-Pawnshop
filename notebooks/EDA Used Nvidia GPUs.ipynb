{
 "cells": [
  {
   "cell_type": "code",
   "execution_count": 53,
   "metadata": {
    "collapsed": true,
    "pycharm": {
     "is_executing": false
    }
   },
   "outputs": [],
   "source": [
    "import pandas as pd\n",
    "import numpy as np\n",
    "import matplotlib.pyplot as plt\n",
    "plt.style.use('ggplot')\n",
    "import scipy.stats as stats\n",
    "from IPython.display import Markdown\n",
    "from python_scripts.pricingprocessing import *"
   ]
  },
  {
   "cell_type": "code",
   "source": [
    "comparison_set, bad_set = load_comparison_pickle()\n",
    "df = pull_pricing_draft(comparison_set, bad_set, limit=None)\n"
   ],
   "metadata": {
    "collapsed": false,
    "pycharm": {
     "name": "#%%\n",
     "is_executing": false
    }
   },
   "execution_count": 54,
   "outputs": [
    {
     "name": "stdout",
     "text": [
      "total entries: 14085\nentries over power 2: 1108\n"
     ],
     "output_type": "stream"
    }
   ]
  },
  {
   "cell_type": "code",
   "execution_count": 55,
   "outputs": [],
   "source": [
    "df['created'] = pd.to_datetime(df['created'], unit='s')\n",
    "df['price'] = df['selected_text'].map(lambda x: int(x[1:].strip()))"
   ],
   "metadata": {
    "collapsed": false,
    "pycharm": {
     "name": "#%%\n",
     "is_executing": false
    }
   }
  },
  {
   "cell_type": "code",
   "execution_count": 56,
   "outputs": [],
   "source": [
    "def drop_multi_item_posts(df):\n",
    "    df['split_num'] = df['title_select'].str.split(',')\n",
    "    df['split_num'] = df['split_num'].map(lambda x: len(x))\n",
    "    df.loc[df['split_num'] != 1]\n",
    "    df = df.loc[df['split_num'] == 1].copy()\n",
    "    df = df.drop(['split_num'], axis=1)\n",
    "    return df"
   ],
   "metadata": {
    "collapsed": false,
    "pycharm": {
     "name": "#%%\n",
     "is_executing": false
    }
   }
  },
  {
   "cell_type": "code",
   "execution_count": 57,
   "outputs": [],
   "source": [
    "def drop_undesirable_data(df):\n",
    "    df = df.loc[df['full_text'].str.contains('laptop') == False]\n",
    "    df = df.loc[df['title_select'].str.contains('laptop') == False]\n",
    "    df = df.loc[df['post_id'] != 'bl70vy']\n",
    "    df = df.loc[df['model'].isnull()==False]\n",
    "    return df"
   ],
   "metadata": {
    "collapsed": false,
    "pycharm": {
     "name": "#%%\n",
     "is_executing": false
    }
   }
  },
  {
   "cell_type": "code",
   "execution_count": 66,
   "outputs": [],
   "source": [
    "def model_identification(df):\n",
    "    df['ti'] = df['title_select'].str.contains('ti')\n",
    "    "
   ],
   "metadata": {
    "collapsed": false,
    "pycharm": {
     "name": "#%%\n",
     "is_executing": false
    }
   }
  },
  {
   "cell_type": "code",
   "execution_count": 96,
   "outputs": [
    {
     "name": "stderr",
     "text": [
      "/home/erin/anaconda3/envs/HardwareScrape/lib/python3.7/site-packages/ipykernel_launcher.py:1: SettingWithCopyWarning: \nA value is trying to be set on a copy of a slice from a DataFrame.\nTry using .loc[row_indexer,col_indexer] = value instead\n\nSee the caveats in the documentation: http://pandas.pydata.org/pandas-docs/stable/user_guide/indexing.html#returning-a-view-versus-a-copy\n  \"\"\"Entry point for launching an IPython kernel.\n"
     ],
     "output_type": "stream"
    }
   ],
   "source": [
    "df['model'] = df['title_select'].str.extract(r'(\\d{3,4})')"
   ],
   "metadata": {
    "collapsed": false,
    "pycharm": {
     "name": "#%%\n",
     "is_executing": false
    }
   }
  },
  {
   "cell_type": "code",
   "execution_count": 105,
   "outputs": [
    {
     "data": {
      "text/plain": "                  price\nmodel ti               \n1030  False   63.500000\n1050  False   75.000000\n      True    97.806452\n1060  False  142.471698\n      True   122.500000\n1070  False  227.376238\n      True   276.175000\n1080  False  336.672897\n      True   503.684211\n120   False   60.000000\n1650  False  133.333333\n1660  False  170.000000\n      True   217.500000\n2060  False  308.395349\n      True   306.666667\n2070  False  422.672131\n      True   492.142857\n2080  False  645.986486\n      True   586.560000\n2400  False  380.000000\n      True   600.000000\n290   True   100.000000\n299   True   500.000000\n3570  False   70.000000\n460   False   50.000000\n4790  False  175.000000\n480   False  130.000000\n503   False  800.000000\n560   True    44.000000\n570   False   85.000000\n      True    90.000000\n580   False   92.500000\n650   False   35.000000\n660   False   65.000000\n      True    50.000000\n6600  False  600.000000\n6700  True   600.000000\n720   False  620.000000\n750   True    46.666667\n760   False   51.666667\n770   False   65.833333\n7700  True   300.000000\n780   False  115.000000\n      True   120.000000\n870   False  550.000000\n950   False   56.428571\n960   False   72.500000\n      True    75.000000\n970   False  104.563636\n980   False  180.576923\n      True   215.131579",
      "text/html": "<div>\n<style scoped>\n    .dataframe tbody tr th:only-of-type {\n        vertical-align: middle;\n    }\n\n    .dataframe tbody tr th {\n        vertical-align: top;\n    }\n\n    .dataframe thead th {\n        text-align: right;\n    }\n</style>\n<table border=\"1\" class=\"dataframe\">\n  <thead>\n    <tr style=\"text-align: right;\">\n      <th></th>\n      <th></th>\n      <th>price</th>\n    </tr>\n    <tr>\n      <th>model</th>\n      <th>ti</th>\n      <th></th>\n    </tr>\n  </thead>\n  <tbody>\n    <tr>\n      <td>1030</td>\n      <td>False</td>\n      <td>63.500000</td>\n    </tr>\n    <tr>\n      <td rowspan=\"2\" valign=\"top\">1050</td>\n      <td>False</td>\n      <td>75.000000</td>\n    </tr>\n    <tr>\n      <td>True</td>\n      <td>97.806452</td>\n    </tr>\n    <tr>\n      <td rowspan=\"2\" valign=\"top\">1060</td>\n      <td>False</td>\n      <td>142.471698</td>\n    </tr>\n    <tr>\n      <td>True</td>\n      <td>122.500000</td>\n    </tr>\n    <tr>\n      <td rowspan=\"2\" valign=\"top\">1070</td>\n      <td>False</td>\n      <td>227.376238</td>\n    </tr>\n    <tr>\n      <td>True</td>\n      <td>276.175000</td>\n    </tr>\n    <tr>\n      <td rowspan=\"2\" valign=\"top\">1080</td>\n      <td>False</td>\n      <td>336.672897</td>\n    </tr>\n    <tr>\n      <td>True</td>\n      <td>503.684211</td>\n    </tr>\n    <tr>\n      <td>120</td>\n      <td>False</td>\n      <td>60.000000</td>\n    </tr>\n    <tr>\n      <td>1650</td>\n      <td>False</td>\n      <td>133.333333</td>\n    </tr>\n    <tr>\n      <td rowspan=\"2\" valign=\"top\">1660</td>\n      <td>False</td>\n      <td>170.000000</td>\n    </tr>\n    <tr>\n      <td>True</td>\n      <td>217.500000</td>\n    </tr>\n    <tr>\n      <td rowspan=\"2\" valign=\"top\">2060</td>\n      <td>False</td>\n      <td>308.395349</td>\n    </tr>\n    <tr>\n      <td>True</td>\n      <td>306.666667</td>\n    </tr>\n    <tr>\n      <td rowspan=\"2\" valign=\"top\">2070</td>\n      <td>False</td>\n      <td>422.672131</td>\n    </tr>\n    <tr>\n      <td>True</td>\n      <td>492.142857</td>\n    </tr>\n    <tr>\n      <td rowspan=\"2\" valign=\"top\">2080</td>\n      <td>False</td>\n      <td>645.986486</td>\n    </tr>\n    <tr>\n      <td>True</td>\n      <td>586.560000</td>\n    </tr>\n    <tr>\n      <td rowspan=\"2\" valign=\"top\">2400</td>\n      <td>False</td>\n      <td>380.000000</td>\n    </tr>\n    <tr>\n      <td>True</td>\n      <td>600.000000</td>\n    </tr>\n    <tr>\n      <td>290</td>\n      <td>True</td>\n      <td>100.000000</td>\n    </tr>\n    <tr>\n      <td>299</td>\n      <td>True</td>\n      <td>500.000000</td>\n    </tr>\n    <tr>\n      <td>3570</td>\n      <td>False</td>\n      <td>70.000000</td>\n    </tr>\n    <tr>\n      <td>460</td>\n      <td>False</td>\n      <td>50.000000</td>\n    </tr>\n    <tr>\n      <td>4790</td>\n      <td>False</td>\n      <td>175.000000</td>\n    </tr>\n    <tr>\n      <td>480</td>\n      <td>False</td>\n      <td>130.000000</td>\n    </tr>\n    <tr>\n      <td>503</td>\n      <td>False</td>\n      <td>800.000000</td>\n    </tr>\n    <tr>\n      <td>560</td>\n      <td>True</td>\n      <td>44.000000</td>\n    </tr>\n    <tr>\n      <td rowspan=\"2\" valign=\"top\">570</td>\n      <td>False</td>\n      <td>85.000000</td>\n    </tr>\n    <tr>\n      <td>True</td>\n      <td>90.000000</td>\n    </tr>\n    <tr>\n      <td>580</td>\n      <td>False</td>\n      <td>92.500000</td>\n    </tr>\n    <tr>\n      <td>650</td>\n      <td>False</td>\n      <td>35.000000</td>\n    </tr>\n    <tr>\n      <td rowspan=\"2\" valign=\"top\">660</td>\n      <td>False</td>\n      <td>65.000000</td>\n    </tr>\n    <tr>\n      <td>True</td>\n      <td>50.000000</td>\n    </tr>\n    <tr>\n      <td>6600</td>\n      <td>False</td>\n      <td>600.000000</td>\n    </tr>\n    <tr>\n      <td>6700</td>\n      <td>True</td>\n      <td>600.000000</td>\n    </tr>\n    <tr>\n      <td>720</td>\n      <td>False</td>\n      <td>620.000000</td>\n    </tr>\n    <tr>\n      <td>750</td>\n      <td>True</td>\n      <td>46.666667</td>\n    </tr>\n    <tr>\n      <td>760</td>\n      <td>False</td>\n      <td>51.666667</td>\n    </tr>\n    <tr>\n      <td>770</td>\n      <td>False</td>\n      <td>65.833333</td>\n    </tr>\n    <tr>\n      <td>7700</td>\n      <td>True</td>\n      <td>300.000000</td>\n    </tr>\n    <tr>\n      <td rowspan=\"2\" valign=\"top\">780</td>\n      <td>False</td>\n      <td>115.000000</td>\n    </tr>\n    <tr>\n      <td>True</td>\n      <td>120.000000</td>\n    </tr>\n    <tr>\n      <td>870</td>\n      <td>False</td>\n      <td>550.000000</td>\n    </tr>\n    <tr>\n      <td>950</td>\n      <td>False</td>\n      <td>56.428571</td>\n    </tr>\n    <tr>\n      <td rowspan=\"2\" valign=\"top\">960</td>\n      <td>False</td>\n      <td>72.500000</td>\n    </tr>\n    <tr>\n      <td>True</td>\n      <td>75.000000</td>\n    </tr>\n    <tr>\n      <td>970</td>\n      <td>False</td>\n      <td>104.563636</td>\n    </tr>\n    <tr>\n      <td rowspan=\"2\" valign=\"top\">980</td>\n      <td>False</td>\n      <td>180.576923</td>\n    </tr>\n    <tr>\n      <td>True</td>\n      <td>215.131579</td>\n    </tr>\n  </tbody>\n</table>\n</div>"
     },
     "metadata": {},
     "output_type": "execute_result",
     "execution_count": 105
    }
   ],
   "source": [
    "df.groupby(['model', 'ti']).agg('mean')\n"
   ],
   "metadata": {
    "collapsed": false,
    "pycharm": {
     "name": "#%%\n",
     "is_executing": false
    }
   }
  },
  {
   "cell_type": "code",
   "execution_count": 115,
   "outputs": [
    {
     "data": {
      "text/plain": "29.477272727272727"
     },
     "metadata": {},
     "output_type": "execute_result",
     "execution_count": 115
    }
   ],
   "source": [
    "np.mean(df['title_select'].str.len())"
   ],
   "metadata": {
    "collapsed": false,
    "pycharm": {
     "name": "#%%\n",
     "is_executing": false
    }
   }
  },
  {
   "cell_type": "code",
   "execution_count": 120,
   "outputs": [
    {
     "data": {
      "text/plain": "                                           title_select selected_text  \\\n75     bnib msi geforce rtx 2080 ti rtx 2080 ti sea ...          $930   \n77     msi - geforce rtx 2060 gaming z 6gb gddr6 pci...          $325   \n117    msi - geforce rtx 2060 gaming z 6gb gddr6 pci...          $325   \n164    amd ryzen 5 2400g processor nvidia geforce gt...          $600   \n193    evga 2070 super xc + ballistix sport lt 32 gb...          $800   \n215    asus geforce gtx 560 ti (fermi) directx 11 en...           $44   \n445    evga nvidia gtx 1080 ftw hybrid (liquid coole...          $420   \n930    ek-fc geforce gtx fe waterblock for 1060 1070...          $100   \n937    nvidia geforce gtx 1080 ti founders edition -...          $750   \n1011   corsair ddr4-2400 2x4gb / msi gaming gtx 960 ...          $380   \n1055   msi ge63 raider rgb 15.6\" 120hz gtx 1070 8g i...           $60   \n\n                                              full_text  \\\n75    Hello I am looking to sell this brand new card...   \n77    I bought it new and have only had it in my pc ...   \n117   I bought it new and have only had it in my pc ...   \n164   As the post says\\n\\nI bought my now ex a gamin...   \n193   Was planning on building a rig but had a chang...   \n215   [Timestamp](https://imgur.com/a/frYfcmb)\\n\\nI ...   \n445   I've had it since Dec 2017, but barely ever fi...   \n930   EDIT: sold to /u/Antartic_Camel\\n\\nEDIT: 2 tra...   \n937   Edit\\* was 800\\n\\n$750 OBO\\n\\nUsed condition.\\...   \n1011  * [MSI Gaming GTX 980 4GB](https://imgur.com/a...   \n1055  MSI GE63: $1,500\\nShipping: $60\\n\\nLightly use...   \n\n                                             full_title location_tag post_id  \\\n75    [USA-IL] [H] BNIB MSI GeForce RTX 2080 Ti RTX ...     [USA-IL]  culrx7   \n77    [USA-TX][H] MSI - GeForce RTX 2060 GAMING Z 6G...     [USA-TX]  cugx6f   \n117   [USA-TX][H] MSI - GeForce RTX 2060 GAMING Z 6G...     [USA-TX]  crqrm3   \n164   [USA-CA] [H] AMD Ryzen 5 2400G Processor NVIDI...     [USA-CA]  cnrr5v   \n193   [USA-GA] [H] EVGA 2070 SUPER XC + BALLISTIX Sp...     [USA-GA]  cll3br   \n215   [USA-TX][H] ASUS GeForce GTX 560 Ti (Fermi) Di...     [USA-TX]  cj3ptu   \n445   [USA-FL][H] EVGA Nvidia GTX 1080 FTW Hybrid (L...     [USA-FL]  bwjnfs   \n930   [USA-TN] [H] EK-FC Geforce GTX FE Waterblock f...     [USA-TN]  ao4jyq   \n937   [USA - FL] [H] NVIDIA GeForce GTX 1080 Ti Foun...   [USA - FL]  anr4ui   \n1011  [USA-GA] [H] Corsair DDR4-2400 2x4GB / MSI Gam...     [USA-GA]  ai5k4p   \n1055  [USA-MA] [H] MSI GE63 Raider RGB 15.6\" 120Hz G...     [USA-MA]  aecqhy   \n\n        author_id author_trades             created  price     ti model  \n75       t2_7bl7m     Trades: 4 2019-08-24 07:31:30    930   True  2080  \n77    t2_1bbcioiu          None 2019-08-24 01:20:18    325  False  2060  \n117   t2_1bbcioiu          None 2019-08-18 03:32:04    325  False  2060  \n164      t2_91rxo          None 2019-08-09 04:46:14    600   True  2400  \n193   t2_2ap0ssnz          None 2019-08-04 01:05:46    800   True  2070  \n215          None          None 2019-07-29 08:21:14     44   True   560  \n445      t2_6o69c     Trades: 3 2019-06-04 10:49:23    420  False  1080  \n930      t2_59c0q    Trades: 50 2019-02-07 22:58:52    100   True  1060  \n937      t2_a55x8     Trades: 3 2019-02-06 22:19:41    750   True  1080  \n1011     t2_dmwjr   Trades: 150 2019-01-21 10:47:36    380  False  2400  \n1055     t2_7ghlw          None 2019-01-10 07:20:56     60  False   120  ",
      "text/html": "<div>\n<style scoped>\n    .dataframe tbody tr th:only-of-type {\n        vertical-align: middle;\n    }\n\n    .dataframe tbody tr th {\n        vertical-align: top;\n    }\n\n    .dataframe thead th {\n        text-align: right;\n    }\n</style>\n<table border=\"1\" class=\"dataframe\">\n  <thead>\n    <tr style=\"text-align: right;\">\n      <th></th>\n      <th>title_select</th>\n      <th>selected_text</th>\n      <th>full_text</th>\n      <th>full_title</th>\n      <th>location_tag</th>\n      <th>post_id</th>\n      <th>author_id</th>\n      <th>author_trades</th>\n      <th>created</th>\n      <th>price</th>\n      <th>ti</th>\n      <th>model</th>\n    </tr>\n  </thead>\n  <tbody>\n    <tr>\n      <td>75</td>\n      <td>bnib msi geforce rtx 2080 ti rtx 2080 ti sea ...</td>\n      <td>$930</td>\n      <td>Hello I am looking to sell this brand new card...</td>\n      <td>[USA-IL] [H] BNIB MSI GeForce RTX 2080 Ti RTX ...</td>\n      <td>[USA-IL]</td>\n      <td>culrx7</td>\n      <td>t2_7bl7m</td>\n      <td>Trades: 4</td>\n      <td>2019-08-24 07:31:30</td>\n      <td>930</td>\n      <td>True</td>\n      <td>2080</td>\n    </tr>\n    <tr>\n      <td>77</td>\n      <td>msi - geforce rtx 2060 gaming z 6gb gddr6 pci...</td>\n      <td>$325</td>\n      <td>I bought it new and have only had it in my pc ...</td>\n      <td>[USA-TX][H] MSI - GeForce RTX 2060 GAMING Z 6G...</td>\n      <td>[USA-TX]</td>\n      <td>cugx6f</td>\n      <td>t2_1bbcioiu</td>\n      <td>None</td>\n      <td>2019-08-24 01:20:18</td>\n      <td>325</td>\n      <td>False</td>\n      <td>2060</td>\n    </tr>\n    <tr>\n      <td>117</td>\n      <td>msi - geforce rtx 2060 gaming z 6gb gddr6 pci...</td>\n      <td>$325</td>\n      <td>I bought it new and have only had it in my pc ...</td>\n      <td>[USA-TX][H] MSI - GeForce RTX 2060 GAMING Z 6G...</td>\n      <td>[USA-TX]</td>\n      <td>crqrm3</td>\n      <td>t2_1bbcioiu</td>\n      <td>None</td>\n      <td>2019-08-18 03:32:04</td>\n      <td>325</td>\n      <td>False</td>\n      <td>2060</td>\n    </tr>\n    <tr>\n      <td>164</td>\n      <td>amd ryzen 5 2400g processor nvidia geforce gt...</td>\n      <td>$600</td>\n      <td>As the post says\\n\\nI bought my now ex a gamin...</td>\n      <td>[USA-CA] [H] AMD Ryzen 5 2400G Processor NVIDI...</td>\n      <td>[USA-CA]</td>\n      <td>cnrr5v</td>\n      <td>t2_91rxo</td>\n      <td>None</td>\n      <td>2019-08-09 04:46:14</td>\n      <td>600</td>\n      <td>True</td>\n      <td>2400</td>\n    </tr>\n    <tr>\n      <td>193</td>\n      <td>evga 2070 super xc + ballistix sport lt 32 gb...</td>\n      <td>$800</td>\n      <td>Was planning on building a rig but had a chang...</td>\n      <td>[USA-GA] [H] EVGA 2070 SUPER XC + BALLISTIX Sp...</td>\n      <td>[USA-GA]</td>\n      <td>cll3br</td>\n      <td>t2_2ap0ssnz</td>\n      <td>None</td>\n      <td>2019-08-04 01:05:46</td>\n      <td>800</td>\n      <td>True</td>\n      <td>2070</td>\n    </tr>\n    <tr>\n      <td>215</td>\n      <td>asus geforce gtx 560 ti (fermi) directx 11 en...</td>\n      <td>$44</td>\n      <td>[Timestamp](https://imgur.com/a/frYfcmb)\\n\\nI ...</td>\n      <td>[USA-TX][H] ASUS GeForce GTX 560 Ti (Fermi) Di...</td>\n      <td>[USA-TX]</td>\n      <td>cj3ptu</td>\n      <td>None</td>\n      <td>None</td>\n      <td>2019-07-29 08:21:14</td>\n      <td>44</td>\n      <td>True</td>\n      <td>560</td>\n    </tr>\n    <tr>\n      <td>445</td>\n      <td>evga nvidia gtx 1080 ftw hybrid (liquid coole...</td>\n      <td>$420</td>\n      <td>I've had it since Dec 2017, but barely ever fi...</td>\n      <td>[USA-FL][H] EVGA Nvidia GTX 1080 FTW Hybrid (L...</td>\n      <td>[USA-FL]</td>\n      <td>bwjnfs</td>\n      <td>t2_6o69c</td>\n      <td>Trades: 3</td>\n      <td>2019-06-04 10:49:23</td>\n      <td>420</td>\n      <td>False</td>\n      <td>1080</td>\n    </tr>\n    <tr>\n      <td>930</td>\n      <td>ek-fc geforce gtx fe waterblock for 1060 1070...</td>\n      <td>$100</td>\n      <td>EDIT: sold to /u/Antartic_Camel\\n\\nEDIT: 2 tra...</td>\n      <td>[USA-TN] [H] EK-FC Geforce GTX FE Waterblock f...</td>\n      <td>[USA-TN]</td>\n      <td>ao4jyq</td>\n      <td>t2_59c0q</td>\n      <td>Trades: 50</td>\n      <td>2019-02-07 22:58:52</td>\n      <td>100</td>\n      <td>True</td>\n      <td>1060</td>\n    </tr>\n    <tr>\n      <td>937</td>\n      <td>nvidia geforce gtx 1080 ti founders edition -...</td>\n      <td>$750</td>\n      <td>Edit\\* was 800\\n\\n$750 OBO\\n\\nUsed condition.\\...</td>\n      <td>[USA - FL] [H] NVIDIA GeForce GTX 1080 Ti Foun...</td>\n      <td>[USA - FL]</td>\n      <td>anr4ui</td>\n      <td>t2_a55x8</td>\n      <td>Trades: 3</td>\n      <td>2019-02-06 22:19:41</td>\n      <td>750</td>\n      <td>True</td>\n      <td>1080</td>\n    </tr>\n    <tr>\n      <td>1011</td>\n      <td>corsair ddr4-2400 2x4gb / msi gaming gtx 960 ...</td>\n      <td>$380</td>\n      <td>* [MSI Gaming GTX 980 4GB](https://imgur.com/a...</td>\n      <td>[USA-GA] [H] Corsair DDR4-2400 2x4GB / MSI Gam...</td>\n      <td>[USA-GA]</td>\n      <td>ai5k4p</td>\n      <td>t2_dmwjr</td>\n      <td>Trades: 150</td>\n      <td>2019-01-21 10:47:36</td>\n      <td>380</td>\n      <td>False</td>\n      <td>2400</td>\n    </tr>\n    <tr>\n      <td>1055</td>\n      <td>msi ge63 raider rgb 15.6\" 120hz gtx 1070 8g i...</td>\n      <td>$60</td>\n      <td>MSI GE63: $1,500\\nShipping: $60\\n\\nLightly use...</td>\n      <td>[USA-MA] [H] MSI GE63 Raider RGB 15.6\" 120Hz G...</td>\n      <td>[USA-MA]</td>\n      <td>aecqhy</td>\n      <td>t2_7ghlw</td>\n      <td>None</td>\n      <td>2019-01-10 07:20:56</td>\n      <td>60</td>\n      <td>False</td>\n      <td>120</td>\n    </tr>\n  </tbody>\n</table>\n</div>"
     },
     "metadata": {},
     "output_type": "execute_result",
     "execution_count": 120
    }
   ],
   "source": [
    "df.loc[df['title_select'].str.len() > 80]\n"
   ],
   "metadata": {
    "collapsed": false,
    "pycharm": {
     "name": "#%%\n",
     "is_executing": false
    }
   }
  },
  {
   "cell_type": "code",
   "execution_count": null,
   "outputs": [],
   "source": [
    "\n"
   ],
   "metadata": {
    "collapsed": false,
    "pycharm": {
     "name": "#%%\n"
    }
   }
  }
 ],
 "metadata": {
  "kernelspec": {
   "display_name": "Python 3",
   "language": "python",
   "name": "python3"
  },
  "language_info": {
   "codemirror_mode": {
    "name": "ipython",
    "version": 2
   },
   "file_extension": ".py",
   "mimetype": "text/x-python",
   "name": "python",
   "nbconvert_exporter": "python",
   "pygments_lexer": "ipython2",
   "version": "2.7.6"
  },
  "pycharm": {
   "stem_cell": {
    "cell_type": "raw",
    "source": [],
    "metadata": {
     "collapsed": false
    }
   }
  }
 },
 "nbformat": 4,
 "nbformat_minor": 0
}