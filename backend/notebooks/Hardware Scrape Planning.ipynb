{
 "cells": [
  {
   "cell_type": "code",
   "execution_count": 1,
   "metadata": {
    "collapsed": true,
    "pycharm": {
     "is_executing": false
    }
   },
   "outputs": [],
   "source": [
    "    import pandas as pd\n",
    "import numpy as np\n",
    "import matplotlib.pyplot as plt\n",
    "plt.style.use('ggplot')\n",
    "import scipy.stats as stats\n",
    "from IPython.display import Markdown"
   ]
  },
  {
   "cell_type": "markdown",
   "source": [
    "# Daily TODO:\n",
    "* figure out how to pull out pricing data from json\n",
    "* \n",
    "\n",
    "\n",
    "\n",
    "# Current TODO\n",
    "## Wikipedia name portion\n",
    "### nvidia: \n",
    "1. ~~Scrape NVIDIA GPU names~~\n",
    "1. ~~Clean-up nvidia gpu names~~\n",
    "1. ~~Drop nvidia names for gpus that aren't relevant (quadro/tesla/mobile cards)~~\n",
    "    * Note: this was done very fast and rough. This should be done cleaner but who cares right now\n",
    "1. Possibly cull names from gpus before 2007?\n",
    "    * These are unlikely to show up in secondary markets anyway?\n",
    "    * Culled tesla/scientific gpus cuz reasons\n",
    "    \n",
    "### AMD\n",
    "1. Scrape names\n",
    "    * Table format slightly differently.\n",
    "    * Pulled the 500 gen cards when using same scrape func\n",
    "1. Clean up names\n",
    "1. Drop irrelevant gpus\n",
    "    * it's worth doing this but right now focus on nvidia so we have some data\n",
    "\n",
    "### Questions and problems\n",
    "* Should we be scraping more information?\n",
    "    * date introduced\n",
    "    * features?\n",
    "    * ram?\n",
    "\n",
    "# Scrape Reddit\n",
    "1. ~~Scrape /r/hardwareswap with praw~~\n",
    "    * Where do we put this?\n",
    "    * Mongosdb!\n",
    "1. ~~Pull all info from posts that contain substring~~\n",
    "    * how do we ensure we're not pulling stuff like ssds?\n",
    "1. Compile times, price, and numbers\n",
    "    * this should give us a basic graph of model to price\n",
    "\n",
    "# Craigslist\n",
    "1. Scrape computer equipment/computer section\n",
    "1. Get price data\n",
    "\n",
    "# Amazon\n",
    "1. Scrape price data if possible"
   ],
   "metadata": {
    "collapsed": false
   }
  },
  {
   "cell_type": "markdown",
   "source": [
    "## Today\n",
    "* Dump results from reddit into mongosdb - how do I do this??"
   ],
   "metadata": {
    "collapsed": false,
    "pycharm": {
     "name": "#%% md\n"
    }
   }
  },
  {
   "cell_type": "code",
   "execution_count": 7,
   "outputs": [
    {
     "name": "stdout",
     "text": [
      "total entries: 14085\nentries over power 2: 3715\n"
     ],
     "output_type": "stream"
    }
   ],
   "source": [
    "%run python_scripts/pricingprocessing.py"
   ],
   "metadata": {
    "collapsed": false,
    "pycharm": {
     "name": "#%%\n",
     "is_executing": false
    }
   }
  },
  {
   "cell_type": "code",
   "execution_count": 8,
   "outputs": [
    {
     "data": {
      "text/plain": "                                        title_select  \\\n0                             zotac gtx 1660 ti amp    \n1            asus gtx 1070 strix oc with waterblock    \n2                                 bnib pny rtx 2070    \n3   msi gtx 1070 armor edition with custom white ...   \n4                              evga gtx 1070 sc 8gb    \n\n                                       selected_text  \\\n0  like new, around 3 months old. looking to upgr...   \n1  elling my perfectly good 1070 with an ek water...   \n2                                      $360+shipping   \n3  ello! currently selling my 1070 for 230$ shipp...   \n4  ey everyone, i'm selling my old evga gtx 1070 ...   \n\n                                           full_text location_tag post_id  \\\n0  Like new, around 3 months old. Looking to upgr...     [USA-TX]  d2dwp1   \n1  Selling my perfectly good 1070 with an EK wate...     [USA-CA]  d2dwly   \n2  Bought it during the Best Buy deal. Been looki...     [USA-GA]  d2d7ns   \n3  Hello! currently selling my 1070 for 230$ ship...     [USA-PA]  d2ahpu   \n4  Hey everyone, I'm selling my old EVGA GTX 1070...     [USA-WA]  d28lp5   \n\n     author_id author_trades       created  \n0   t2_3z50nip          None  1.568176e+09  \n1     t2_854ou     Trades: 1  1.568176e+09  \n2     t2_68g6j          None  1.568174e+09  \n3  t2_24hh00wl          None  1.568163e+09  \n4     t2_582fl     Trades: 1  1.568156e+09  ",
      "text/html": "<div>\n<style scoped>\n    .dataframe tbody tr th:only-of-type {\n        vertical-align: middle;\n    }\n\n    .dataframe tbody tr th {\n        vertical-align: top;\n    }\n\n    .dataframe thead th {\n        text-align: right;\n    }\n</style>\n<table border=\"1\" class=\"dataframe\">\n  <thead>\n    <tr style=\"text-align: right;\">\n      <th></th>\n      <th>title_select</th>\n      <th>selected_text</th>\n      <th>full_text</th>\n      <th>location_tag</th>\n      <th>post_id</th>\n      <th>author_id</th>\n      <th>author_trades</th>\n      <th>created</th>\n    </tr>\n  </thead>\n  <tbody>\n    <tr>\n      <td>0</td>\n      <td>zotac gtx 1660 ti amp</td>\n      <td>like new, around 3 months old. looking to upgr...</td>\n      <td>Like new, around 3 months old. Looking to upgr...</td>\n      <td>[USA-TX]</td>\n      <td>d2dwp1</td>\n      <td>t2_3z50nip</td>\n      <td>None</td>\n      <td>1.568176e+09</td>\n    </tr>\n    <tr>\n      <td>1</td>\n      <td>asus gtx 1070 strix oc with waterblock</td>\n      <td>elling my perfectly good 1070 with an ek water...</td>\n      <td>Selling my perfectly good 1070 with an EK wate...</td>\n      <td>[USA-CA]</td>\n      <td>d2dwly</td>\n      <td>t2_854ou</td>\n      <td>Trades: 1</td>\n      <td>1.568176e+09</td>\n    </tr>\n    <tr>\n      <td>2</td>\n      <td>bnib pny rtx 2070</td>\n      <td>$360+shipping</td>\n      <td>Bought it during the Best Buy deal. Been looki...</td>\n      <td>[USA-GA]</td>\n      <td>d2d7ns</td>\n      <td>t2_68g6j</td>\n      <td>None</td>\n      <td>1.568174e+09</td>\n    </tr>\n    <tr>\n      <td>3</td>\n      <td>msi gtx 1070 armor edition with custom white ...</td>\n      <td>ello! currently selling my 1070 for 230$ shipp...</td>\n      <td>Hello! currently selling my 1070 for 230$ ship...</td>\n      <td>[USA-PA]</td>\n      <td>d2ahpu</td>\n      <td>t2_24hh00wl</td>\n      <td>None</td>\n      <td>1.568163e+09</td>\n    </tr>\n    <tr>\n      <td>4</td>\n      <td>evga gtx 1070 sc 8gb</td>\n      <td>ey everyone, i'm selling my old evga gtx 1070 ...</td>\n      <td>Hey everyone, I'm selling my old EVGA GTX 1070...</td>\n      <td>[USA-WA]</td>\n      <td>d28lp5</td>\n      <td>t2_582fl</td>\n      <td>Trades: 1</td>\n      <td>1.568156e+09</td>\n    </tr>\n  </tbody>\n</table>\n</div>"
     },
     "metadata": {},
     "output_type": "execute_result",
     "execution_count": 8
    }
   ],
   "source": [
    "df.head()\n",
    "\n"
   ],
   "metadata": {
    "collapsed": false,
    "pycharm": {
     "name": "#%%\n",
     "is_executing": false
    }
   }
  },
  {
   "cell_type": "code",
   "execution_count": 21,
   "outputs": [
    {
     "name": "stdout",
     "text": [
      "total entries: 100\nentries over power 2: 27\n"
     ],
     "output_type": "stream"
    }
   ],
   "source": [
    "%run python_scripts/pricingprocessing.py\n",
    "\n"
   ],
   "metadata": {
    "collapsed": false,
    "pycharm": {
     "name": "#%%\n",
     "is_executing": false
    }
   }
  },
  {
   "cell_type": "code",
   "execution_count": 22,
   "outputs": [
    {
     "data": {
      "text/plain": "                                        title_select  \\\n0                             zotac gtx 1660 ti amp    \n1            asus gtx 1070 strix oc with waterblock    \n2                                 bnib pny rtx 2070    \n3   msi gtx 1070 armor edition with custom white ...   \n4                              evga gtx 1070 sc 8gb    \n\n                                       selected_text  \\\n0  like new, around 3 months old. looking to upgr...   \n1  elling my perfectly good 1070 with an ek water...   \n2                                               $360   \n3  ello! currently selling my 1070 for 230$ shipp...   \n4  ey everyone, i'm selling my old evga gtx 1070 ...   \n\n                                           full_text location_tag post_id  \\\n0  Like new, around 3 months old. Looking to upgr...     [USA-TX]  d2dwp1   \n1  Selling my perfectly good 1070 with an EK wate...     [USA-CA]  d2dwly   \n2  Bought it during the Best Buy deal. Been looki...     [USA-GA]  d2d7ns   \n3  Hello! currently selling my 1070 for 230$ ship...     [USA-PA]  d2ahpu   \n4  Hey everyone, I'm selling my old EVGA GTX 1070...     [USA-WA]  d28lp5   \n\n     author_id author_trades       created  \n0   t2_3z50nip          None  1.568176e+09  \n1     t2_854ou     Trades: 1  1.568176e+09  \n2     t2_68g6j          None  1.568174e+09  \n3  t2_24hh00wl          None  1.568163e+09  \n4     t2_582fl     Trades: 1  1.568156e+09  ",
      "text/html": "<div>\n<style scoped>\n    .dataframe tbody tr th:only-of-type {\n        vertical-align: middle;\n    }\n\n    .dataframe tbody tr th {\n        vertical-align: top;\n    }\n\n    .dataframe thead th {\n        text-align: right;\n    }\n</style>\n<table border=\"1\" class=\"dataframe\">\n  <thead>\n    <tr style=\"text-align: right;\">\n      <th></th>\n      <th>title_select</th>\n      <th>selected_text</th>\n      <th>full_text</th>\n      <th>location_tag</th>\n      <th>post_id</th>\n      <th>author_id</th>\n      <th>author_trades</th>\n      <th>created</th>\n    </tr>\n  </thead>\n  <tbody>\n    <tr>\n      <td>0</td>\n      <td>zotac gtx 1660 ti amp</td>\n      <td>like new, around 3 months old. looking to upgr...</td>\n      <td>Like new, around 3 months old. Looking to upgr...</td>\n      <td>[USA-TX]</td>\n      <td>d2dwp1</td>\n      <td>t2_3z50nip</td>\n      <td>None</td>\n      <td>1.568176e+09</td>\n    </tr>\n    <tr>\n      <td>1</td>\n      <td>asus gtx 1070 strix oc with waterblock</td>\n      <td>elling my perfectly good 1070 with an ek water...</td>\n      <td>Selling my perfectly good 1070 with an EK wate...</td>\n      <td>[USA-CA]</td>\n      <td>d2dwly</td>\n      <td>t2_854ou</td>\n      <td>Trades: 1</td>\n      <td>1.568176e+09</td>\n    </tr>\n    <tr>\n      <td>2</td>\n      <td>bnib pny rtx 2070</td>\n      <td>$360</td>\n      <td>Bought it during the Best Buy deal. Been looki...</td>\n      <td>[USA-GA]</td>\n      <td>d2d7ns</td>\n      <td>t2_68g6j</td>\n      <td>None</td>\n      <td>1.568174e+09</td>\n    </tr>\n    <tr>\n      <td>3</td>\n      <td>msi gtx 1070 armor edition with custom white ...</td>\n      <td>ello! currently selling my 1070 for 230$ shipp...</td>\n      <td>Hello! currently selling my 1070 for 230$ ship...</td>\n      <td>[USA-PA]</td>\n      <td>d2ahpu</td>\n      <td>t2_24hh00wl</td>\n      <td>None</td>\n      <td>1.568163e+09</td>\n    </tr>\n    <tr>\n      <td>4</td>\n      <td>evga gtx 1070 sc 8gb</td>\n      <td>ey everyone, i'm selling my old evga gtx 1070 ...</td>\n      <td>Hey everyone, I'm selling my old EVGA GTX 1070...</td>\n      <td>[USA-WA]</td>\n      <td>d28lp5</td>\n      <td>t2_582fl</td>\n      <td>Trades: 1</td>\n      <td>1.568156e+09</td>\n    </tr>\n  </tbody>\n</table>\n</div>"
     },
     "metadata": {},
     "output_type": "execute_result",
     "execution_count": 22
    }
   ],
   "source": [
    "df.head()\n"
   ],
   "metadata": {
    "collapsed": false,
    "pycharm": {
     "name": "#%%\n",
     "is_executing": false
    }
   }
  },
  {
   "cell_type": "code",
   "execution_count": null,
   "outputs": [],
   "source": [
    "\n"
   ],
   "metadata": {
    "collapsed": false,
    "pycharm": {
     "name": "#%%\n"
    }
   }
  }
 ],
 "metadata": {
  "language_info": {
   "codemirror_mode": {
    "name": "ipython",
    "version": 2
   },
   "file_extension": ".py",
   "mimetype": "text/x-python",
   "name": "python",
   "nbconvert_exporter": "python",
   "pygments_lexer": "ipython2",
   "version": "2.7.6"
  },
  "kernelspec": {
   "name": "python3",
   "language": "python",
   "display_name": "Python 3"
  },
  "pycharm": {
   "stem_cell": {
    "cell_type": "raw",
    "source": [],
    "metadata": {
     "collapsed": false
    }
   }
  }
 },
 "nbformat": 4,
 "nbformat_minor": 0
}