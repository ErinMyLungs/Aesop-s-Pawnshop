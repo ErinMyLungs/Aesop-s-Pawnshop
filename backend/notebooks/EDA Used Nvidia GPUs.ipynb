{
 "cells": [
  {
   "cell_type": "code",
   "execution_count": 1,
   "metadata": {
    "pycharm": {
     "is_executing": false
    }
   },
   "outputs": [],
   "source": [
    "import pandas as pd\n",
    "import numpy as np\n",
    "import matplotlib.pyplot as plt\n",
    "plt.style.use('ggplot')\n",
    "import scipy.stats as stats\n",
    "from IPython.display import Markdown, display\n",
    "#from python_scripts.pricingprocessing import *\n",
    "import pickle\n"
   ]
  },
  {
   "cell_type": "code",
   "execution_count": 2,
   "metadata": {
    "collapsed": false,
    "jupyter": {
     "outputs_hidden": false
    },
    "pycharm": {
     "is_executing": false,
     "name": "#%%\n"
    }
   },
   "outputs": [
    {
     "name": "stdout",
     "output_type": "stream",
     "text": [
      "total entries: 14085\n",
      "entries over power 2: 1108\n"
     ]
    }
   ],
   "source": [
    "comparison_set, bad_set = load_comparison_pickle()\n",
    "df = pull_pricing_draft(comparison_set, bad_set, limit=None)\n"
   ]
  },
  {
   "cell_type": "code",
   "execution_count": 3,
   "metadata": {
    "collapsed": false,
    "jupyter": {
     "outputs_hidden": false
    },
    "pycharm": {
     "is_executing": false,
     "name": "#%%\n"
    }
   },
   "outputs": [],
   "source": [
    "df['created'] = pd.to_datetime(df['created'], unit='s')\n",
    "df['price'] = df['selected_text'].map(lambda x: int(x[1:].strip()))"
   ]
  },
  {
   "cell_type": "code",
   "execution_count": 3,
   "metadata": {
    "collapsed": false,
    "jupyter": {
     "outputs_hidden": false
    },
    "pycharm": {
     "is_executing": false,
     "name": "#%%\n"
    }
   },
   "outputs": [],
   "source": [
    "backup_df = df.copy()"
   ]
  },
  {
   "cell_type": "code",
   "execution_count": 2,
   "metadata": {
    "collapsed": false,
    "jupyter": {
     "outputs_hidden": false
    },
    "pycharm": {
     "is_executing": false,
     "name": "#%%\n"
    }
   },
   "outputs": [],
   "source": [
    "with open('/home/erin/PycharmProjects/HardwareScrape/data/df.P', 'rb') as pickle_file:\n",
    "    df = pickle.load(pickle_file)"
   ]
  },
  {
   "cell_type": "code",
   "execution_count": 5,
   "metadata": {
    "collapsed": false,
    "jupyter": {
     "outputs_hidden": false
    },
    "pycharm": {
     "is_executing": false,
     "name": "#%%\n"
    }
   },
   "outputs": [],
   "source": [
    "def drop_multi_item_posts(df):\n",
    "    df['split_num'] = df['title_select'].str.split(',')\n",
    "    df['split_num'] = df['split_num'].map(lambda x: len(x))\n",
    "    df.loc[df['split_num'] != 1]\n",
    "    df = df.loc[df['split_num'] == 1].copy()\n",
    "    df = df.drop(['split_num'], axis=1)\n",
    "    return df\n",
    "df = drop_multi_item_posts(df)"
   ]
  },
  {
   "cell_type": "code",
   "execution_count": 6,
   "metadata": {
    "collapsed": false,
    "jupyter": {
     "outputs_hidden": false
    },
    "pycharm": {
     "is_executing": false,
     "name": "#%%\n"
    }
   },
   "outputs": [],
   "source": [
    "def model_identification(df):\n",
    "    df['ti'] = df['title_select'].str.contains('ti')\n",
    "    \n",
    "model_identification(df)"
   ]
  },
  {
   "cell_type": "code",
   "execution_count": 7,
   "metadata": {
    "collapsed": false,
    "jupyter": {
     "outputs_hidden": false
    },
    "pycharm": {
     "is_executing": false,
     "name": "#%%\n"
    }
   },
   "outputs": [],
   "source": [
    "df['model'] = df['title_select'].str.extract(r'(\\d{3,4})')"
   ]
  },
  {
   "cell_type": "code",
   "execution_count": 59,
   "metadata": {
    "collapsed": false,
    "jupyter": {
     "outputs_hidden": false
    },
    "pycharm": {
     "is_executing": false,
     "name": "#%%\n"
    }
   },
   "outputs": [],
   "source": [
    "def drop_undesirable_data(df):\n",
    "    df = df.loc[df['full_text'].str.contains('laptop') == False]\n",
    "    df = df.loc[df['title_select'].str.contains('laptop') == False]\n",
    "    df = df.loc[df['post_id'] != 'bl70vy']\n",
    "    df = df.loc[df['model'].isnull()==False]\n",
    "    \n",
    "    df = df.loc[df['model'] != '120'] #MSI Laptop\n",
    "    df = df.loc[df['model'] != '2400'] #Ryzen 2400g\n",
    "    df = df.loc[df['model'] != '290'] #multi item post\n",
    "    df = df.loc[df['model'] != '299'] #multi item\n",
    "    df = df.loc[df['model'] != '3570']\n",
    "    df = df.loc[df['model'] != '480']#amd rx 480\n",
    "    df = df.loc[df['model'] != '503']\n",
    "    df = df.loc[df['model'] != '6600'] #full pc sale\n",
    "    df = df.loc[df['model'] != '6700'] #full pc sale\n",
    "    df = df.loc[df['model'] != '7700'] # full pc sale\n",
    "    df = df.loc[df['model'] != '870'] # full pc sale\n",
    "\n",
    "    \n",
    "    return df\n",
    "df = drop_undesirable_data(df)"
   ]
  },
  {
   "cell_type": "code",
   "execution_count": 130,
   "metadata": {},
   "outputs": [
    {
     "data": {
      "text/plain": [
       "[\"I've  put this off for a while, I upgraded my GPU to something better and put  this in my home server about a week ago so it wouldn't collect dust,  but it's insane overkill for what my home server does as it handles  mostly CPU bound tasks.\\n\\nI gamed  using this GPU pretty moderately for about 2 months before upgrading. It  has some wear and tear from a case mod I did when I got it, and the fan  shroud on the bottom of the GPU was dremeled a little bit to fit a  cable through, it's nothing you would see if the GPU is mounted  horizontally.\\n\\n~~I want $450 shipped.~~\\n\\nSOLD: Pending payment\\n\\nTimestamp: [https://imgur.com/a/mIPnS88](https://imgur.com/a/mIPnS88)\"]"
      ]
     },
     "execution_count": 130,
     "metadata": {},
     "output_type": "execute_result"
    }
   ],
   "source": [
    "post_id = 'cmjrtu'\n",
    "list(df.loc[df['post_id']==post_id, 'full_text']) \n",
    "# df.loc[df['post_id']==post_id, 'price'] = 1900.0"
   ]
  },
  {
   "cell_type": "code",
   "execution_count": 131,
   "metadata": {},
   "outputs": [],
   "source": [
    "with open('/home/erin/PycharmProjects/HardwareScrape/data/df.P', 'wb') as pickle_file:\n",
    "    pickle.dump(df, pickle_file)"
   ]
  },
  {
   "cell_type": "code",
   "execution_count": 128,
   "metadata": {},
   "outputs": [
    {
     "data": {
      "text/html": [
       "<div>\n",
       "<style scoped>\n",
       "    .dataframe tbody tr th:only-of-type {\n",
       "        vertical-align: middle;\n",
       "    }\n",
       "\n",
       "    .dataframe tbody tr th {\n",
       "        vertical-align: top;\n",
       "    }\n",
       "\n",
       "    .dataframe thead th {\n",
       "        text-align: right;\n",
       "    }\n",
       "</style>\n",
       "<table border=\"1\" class=\"dataframe\">\n",
       "  <thead>\n",
       "    <tr style=\"text-align: right;\">\n",
       "      <th></th>\n",
       "      <th>title_select</th>\n",
       "      <th>selected_text</th>\n",
       "      <th>full_text</th>\n",
       "      <th>full_title</th>\n",
       "      <th>location_tag</th>\n",
       "      <th>post_id</th>\n",
       "      <th>author_id</th>\n",
       "      <th>author_trades</th>\n",
       "      <th>created</th>\n",
       "      <th>price</th>\n",
       "      <th>ti</th>\n",
       "      <th>model</th>\n",
       "    </tr>\n",
       "  </thead>\n",
       "  <tbody>\n",
       "    <tr>\n",
       "      <th>180</th>\n",
       "      <td>gigabyte rtx 2080 gaming oc white</td>\n",
       "      <td>$450</td>\n",
       "      <td>I've  put this off for a while, I upgraded my ...</td>\n",
       "      <td>[USA-NC] [H] Gigabyte RTX 2080 Gaming OC White...</td>\n",
       "      <td>[USA-NC]</td>\n",
       "      <td>cmjrtu</td>\n",
       "      <td>t2_rv2nw</td>\n",
       "      <td>Trades: 5</td>\n",
       "      <td>2019-08-06 09:00:17</td>\n",
       "      <td>450.0</td>\n",
       "      <td>False</td>\n",
       "      <td>2080</td>\n",
       "    </tr>\n",
       "    <tr>\n",
       "      <th>124</th>\n",
       "      <td>gigabyte rtx 2080 gaming oc</td>\n",
       "      <td>$465</td>\n",
       "      <td>[Timestamp](https://imgur.com/a/zJx1jHo)\\n\\nLo...</td>\n",
       "      <td>[USA-CA][H] Gigabyte RTX 2080 Gaming OC [W] Lo...</td>\n",
       "      <td>[USA-CA]</td>\n",
       "      <td>crepqz</td>\n",
       "      <td>t2_4noia19</td>\n",
       "      <td>Trades: 6</td>\n",
       "      <td>2019-08-17 08:05:47</td>\n",
       "      <td>465.0</td>\n",
       "      <td>False</td>\n",
       "      <td>2080</td>\n",
       "    </tr>\n",
       "  </tbody>\n",
       "</table>\n",
       "</div>"
      ],
      "text/plain": [
       "                            title_select selected_text  \\\n",
       "180   gigabyte rtx 2080 gaming oc white           $450   \n",
       "124         gigabyte rtx 2080 gaming oc           $465   \n",
       "\n",
       "                                             full_text  \\\n",
       "180  I've  put this off for a while, I upgraded my ...   \n",
       "124  [Timestamp](https://imgur.com/a/zJx1jHo)\\n\\nLo...   \n",
       "\n",
       "                                            full_title location_tag post_id  \\\n",
       "180  [USA-NC] [H] Gigabyte RTX 2080 Gaming OC White...     [USA-NC]  cmjrtu   \n",
       "124  [USA-CA][H] Gigabyte RTX 2080 Gaming OC [W] Lo...     [USA-CA]  crepqz   \n",
       "\n",
       "      author_id author_trades             created  price     ti model  \n",
       "180    t2_rv2nw     Trades: 5 2019-08-06 09:00:17  450.0  False  2080  \n",
       "124  t2_4noia19     Trades: 6 2019-08-17 08:05:47  465.0  False  2080  "
      ]
     },
     "execution_count": 128,
     "metadata": {},
     "output_type": "execute_result"
    }
   ],
   "source": [
    "df.loc[(df['model'] == '2080' )& (df['price'] < 500)].sort_values('price')"
   ]
  },
  {
   "cell_type": "code",
   "execution_count": 5,
   "metadata": {
    "collapsed": false,
    "jupyter": {
     "outputs_hidden": false
    },
    "pycharm": {
     "is_executing": false,
     "name": "#%%\n"
    }
   },
   "outputs": [],
   "source": [
    "model_price = df.groupby(['model', 'ti']).agg('mean').sort_values('model')\n",
    "# df.head()"
   ]
  },
  {
   "cell_type": "code",
   "execution_count": null,
   "metadata": {
    "collapsed": false,
    "jupyter": {
     "outputs_hidden": false
    },
    "pycharm": {
     "is_executing": false,
     "name": "#%%\n"
    }
   },
   "outputs": [],
   "source": [
    "np.mean(df['title_select'].str.len())"
   ]
  },
  {
   "cell_type": "code",
   "execution_count": null,
   "metadata": {
    "collapsed": false,
    "jupyter": {
     "outputs_hidden": false
    },
    "pycharm": {
     "is_executing": false,
     "name": "#%%\n"
    }
   },
   "outputs": [],
   "source": [
    "df.loc[df['title_select'].str.len() > 80]\n"
   ]
  },
  {
   "cell_type": "code",
   "execution_count": 19,
   "metadata": {
    "collapsed": false,
    "jupyter": {
     "outputs_hidden": false
    },
    "pycharm": {
     "is_executing": false,
     "name": "#%%\n"
    }
   },
   "outputs": [
    {
     "data": {
      "text/html": [
       "<div>\n",
       "<style scoped>\n",
       "    .dataframe tbody tr th:only-of-type {\n",
       "        vertical-align: middle;\n",
       "    }\n",
       "\n",
       "    .dataframe tbody tr th {\n",
       "        vertical-align: top;\n",
       "    }\n",
       "\n",
       "    .dataframe thead th {\n",
       "        text-align: right;\n",
       "    }\n",
       "</style>\n",
       "<table border=\"1\" class=\"dataframe\">\n",
       "  <thead>\n",
       "    <tr style=\"text-align: right;\">\n",
       "      <th></th>\n",
       "      <th>title_select</th>\n",
       "      <th>selected_text</th>\n",
       "      <th>full_text</th>\n",
       "      <th>full_title</th>\n",
       "      <th>location_tag</th>\n",
       "      <th>post_id</th>\n",
       "      <th>author_id</th>\n",
       "      <th>author_trades</th>\n",
       "      <th>created</th>\n",
       "      <th>price</th>\n",
       "      <th>ti</th>\n",
       "      <th>model</th>\n",
       "    </tr>\n",
       "  </thead>\n",
       "  <tbody>\n",
       "    <tr>\n",
       "      <td>7</td>\n",
       "      <td>asus rog strix gtx 1080 ti oc edition</td>\n",
       "      <td>$550</td>\n",
       "      <td>This is the OC edition ROG Strix card from ASU...</td>\n",
       "      <td>[USA-CA] [H] ASUS ROG Strix GTX 1080 Ti OC Edi...</td>\n",
       "      <td>[USA-CA]</td>\n",
       "      <td>d1jhqh</td>\n",
       "      <td>t2_48lin</td>\n",
       "      <td>Trades: 4</td>\n",
       "      <td>2019-09-09 08:36:38</td>\n",
       "      <td>550</td>\n",
       "      <td>True</td>\n",
       "      <td>1080</td>\n",
       "    </tr>\n",
       "    <tr>\n",
       "      <td>8</td>\n",
       "      <td>i7-4790k, msi 980 ti, gigabyte ga-z97x-sli, 2...</td>\n",
       "      <td>$675</td>\n",
       "      <td>Hello! First time here.\\n\\nTimestamps: https:/...</td>\n",
       "      <td>[USA-NY] [H] i7-4790K, MSI 980 Ti, Gigabyte GA...</td>\n",
       "      <td>[USA-NY]</td>\n",
       "      <td>d1fdjs</td>\n",
       "      <td>t2_ragfo</td>\n",
       "      <td>None</td>\n",
       "      <td>2019-09-09 03:11:21</td>\n",
       "      <td>675</td>\n",
       "      <td>True</td>\n",
       "      <td>4790</td>\n",
       "    </tr>\n",
       "    <tr>\n",
       "      <td>10</td>\n",
       "      <td>asus rog strix 1080 ti</td>\n",
       "      <td>$560</td>\n",
       "      <td>$560 shipped\\n\\n[timestamps](https://imgur.com...</td>\n",
       "      <td>[USA-CA] [H] ASUS ROG STRIX 1080 Ti [W] Paypal...</td>\n",
       "      <td>[USA-CA]</td>\n",
       "      <td>d12iqq</td>\n",
       "      <td>t2_algqs</td>\n",
       "      <td>Trades: 7</td>\n",
       "      <td>2019-09-08 06:16:06</td>\n",
       "      <td>560</td>\n",
       "      <td>True</td>\n",
       "      <td>1080</td>\n",
       "    </tr>\n",
       "    <tr>\n",
       "      <td>11</td>\n",
       "      <td>nvidia rtx 2080 ti</td>\n",
       "      <td>$900</td>\n",
       "      <td>I have a Zotac Gaming Nvidia RTX 2080 ti for s...</td>\n",
       "      <td>[USA-MD] [H] Nvidia RTX 2080 ti [W] PayPal, Lo...</td>\n",
       "      <td>[USA-MD]</td>\n",
       "      <td>d0xku8</td>\n",
       "      <td>t2_31plw9ps</td>\n",
       "      <td>Trades: 13</td>\n",
       "      <td>2019-09-07 23:45:48</td>\n",
       "      <td>900</td>\n",
       "      <td>True</td>\n",
       "      <td>2080</td>\n",
       "    </tr>\n",
       "    <tr>\n",
       "      <td>16</td>\n",
       "      <td>asus strix geforce gtx 1070 8 gb oc edition</td>\n",
       "      <td>$250</td>\n",
       "      <td>GPU is being sold due to an upgrade. Used sole...</td>\n",
       "      <td>[USA - NJ] [H] ASUS STRIX GeForce GTX 1070 8 G...</td>\n",
       "      <td>[USA - NJ]</td>\n",
       "      <td>d09uxx</td>\n",
       "      <td>t2_g9cib</td>\n",
       "      <td>None</td>\n",
       "      <td>2019-09-06 09:24:17</td>\n",
       "      <td>250</td>\n",
       "      <td>True</td>\n",
       "      <td>1070</td>\n",
       "    </tr>\n",
       "    <tr>\n",
       "      <td>...</td>\n",
       "      <td>...</td>\n",
       "      <td>...</td>\n",
       "      <td>...</td>\n",
       "      <td>...</td>\n",
       "      <td>...</td>\n",
       "      <td>...</td>\n",
       "      <td>...</td>\n",
       "      <td>...</td>\n",
       "      <td>...</td>\n",
       "      <td>...</td>\n",
       "      <td>...</td>\n",
       "      <td>...</td>\n",
       "    </tr>\n",
       "    <tr>\n",
       "      <td>1091</td>\n",
       "      <td>nvidia geforce gtx 1070 founders edition</td>\n",
       "      <td>$230</td>\n",
       "      <td>Card is in great condition besides a small scr...</td>\n",
       "      <td>[USA-VA] [H] Nvidia Geforce GTX 1070 Founders ...</td>\n",
       "      <td>[USA-VA]</td>\n",
       "      <td>acbhli</td>\n",
       "      <td>t2_9zeer</td>\n",
       "      <td>Trades: 3</td>\n",
       "      <td>2019-01-04 07:08:23</td>\n",
       "      <td>230</td>\n",
       "      <td>True</td>\n",
       "      <td>1070</td>\n",
       "    </tr>\n",
       "    <tr>\n",
       "      <td>1094</td>\n",
       "      <td>evga gtx 980 ti hybrid</td>\n",
       "      <td>$200</td>\n",
       "      <td>Pic: [https://imgur.com/lewGLLb](https://imgur...</td>\n",
       "      <td>[USA-TX][H] EVGA GTX 980 Ti Hybrid [W] Paypal</td>\n",
       "      <td>[USA-TX]</td>\n",
       "      <td>ac32fm</td>\n",
       "      <td>t2_5fikj</td>\n",
       "      <td>None</td>\n",
       "      <td>2019-01-03 14:49:31</td>\n",
       "      <td>200</td>\n",
       "      <td>True</td>\n",
       "      <td>980</td>\n",
       "    </tr>\n",
       "    <tr>\n",
       "      <td>1099</td>\n",
       "      <td>asus strix 1080 ti oc</td>\n",
       "      <td>$600</td>\n",
       "      <td>Happy new year!\\n\\nToo big to fit in my ITX ca...</td>\n",
       "      <td>[USA-TX] [H] Asus Strix 1080 Ti OC [W] Local C...</td>\n",
       "      <td>[USA-TX]</td>\n",
       "      <td>abwlua</td>\n",
       "      <td>t2_17ec5i</td>\n",
       "      <td>Trades: 30</td>\n",
       "      <td>2019-01-03 03:19:37</td>\n",
       "      <td>600</td>\n",
       "      <td>True</td>\n",
       "      <td>1080</td>\n",
       "    </tr>\n",
       "    <tr>\n",
       "      <td>1100</td>\n",
       "      <td>sc geforce gtx 1050 ti</td>\n",
       "      <td>$110</td>\n",
       "      <td>Asking $110 or best offer \\nUsed lightly for a...</td>\n",
       "      <td>[USA-FL] [H] SC GeForce GTX 1050 Ti [W] Cash l...</td>\n",
       "      <td>[USA-FL]</td>\n",
       "      <td>abvvgu</td>\n",
       "      <td>t2_142ti9</td>\n",
       "      <td>None</td>\n",
       "      <td>2019-01-03 02:08:28</td>\n",
       "      <td>110</td>\n",
       "      <td>True</td>\n",
       "      <td>1050</td>\n",
       "    </tr>\n",
       "    <tr>\n",
       "      <td>1104</td>\n",
       "      <td>geforce gtx 1050 ti 4gb</td>\n",
       "      <td>$100</td>\n",
       "      <td>~~Less than 6 months old works great. Just upg...</td>\n",
       "      <td>[USA-MO] [H] Geforce GTX 1050 Ti 4GB [W] Paypal</td>\n",
       "      <td>[USA-MO]</td>\n",
       "      <td>abn4bj</td>\n",
       "      <td>t2_i4i09</td>\n",
       "      <td>Trades: 5</td>\n",
       "      <td>2019-01-02 07:08:11</td>\n",
       "      <td>100</td>\n",
       "      <td>True</td>\n",
       "      <td>1050</td>\n",
       "    </tr>\n",
       "  </tbody>\n",
       "</table>\n",
       "<p>366 rows × 12 columns</p>\n",
       "</div>"
      ],
      "text/plain": [
       "                                           title_select selected_text  \\\n",
       "7                asus rog strix gtx 1080 ti oc edition           $550   \n",
       "8      i7-4790k, msi 980 ti, gigabyte ga-z97x-sli, 2...          $675   \n",
       "10                              asus rog strix 1080 ti           $560   \n",
       "11                                  nvidia rtx 2080 ti           $900   \n",
       "16         asus strix geforce gtx 1070 8 gb oc edition           $250   \n",
       "...                                                 ...           ...   \n",
       "1091          nvidia geforce gtx 1070 founders edition           $230   \n",
       "1094                            evga gtx 980 ti hybrid           $200   \n",
       "1099                             asus strix 1080 ti oc           $600   \n",
       "1100                            sc geforce gtx 1050 ti           $110   \n",
       "1104                           geforce gtx 1050 ti 4gb           $100   \n",
       "\n",
       "                                              full_text  \\\n",
       "7     This is the OC edition ROG Strix card from ASU...   \n",
       "8     Hello! First time here.\\n\\nTimestamps: https:/...   \n",
       "10    $560 shipped\\n\\n[timestamps](https://imgur.com...   \n",
       "11    I have a Zotac Gaming Nvidia RTX 2080 ti for s...   \n",
       "16    GPU is being sold due to an upgrade. Used sole...   \n",
       "...                                                 ...   \n",
       "1091  Card is in great condition besides a small scr...   \n",
       "1094  Pic: [https://imgur.com/lewGLLb](https://imgur...   \n",
       "1099  Happy new year!\\n\\nToo big to fit in my ITX ca...   \n",
       "1100  Asking $110 or best offer \\nUsed lightly for a...   \n",
       "1104  ~~Less than 6 months old works great. Just upg...   \n",
       "\n",
       "                                             full_title location_tag post_id  \\\n",
       "7     [USA-CA] [H] ASUS ROG Strix GTX 1080 Ti OC Edi...     [USA-CA]  d1jhqh   \n",
       "8     [USA-NY] [H] i7-4790K, MSI 980 Ti, Gigabyte GA...     [USA-NY]  d1fdjs   \n",
       "10    [USA-CA] [H] ASUS ROG STRIX 1080 Ti [W] Paypal...     [USA-CA]  d12iqq   \n",
       "11    [USA-MD] [H] Nvidia RTX 2080 ti [W] PayPal, Lo...     [USA-MD]  d0xku8   \n",
       "16    [USA - NJ] [H] ASUS STRIX GeForce GTX 1070 8 G...   [USA - NJ]  d09uxx   \n",
       "...                                                 ...          ...     ...   \n",
       "1091  [USA-VA] [H] Nvidia Geforce GTX 1070 Founders ...     [USA-VA]  acbhli   \n",
       "1094      [USA-TX][H] EVGA GTX 980 Ti Hybrid [W] Paypal     [USA-TX]  ac32fm   \n",
       "1099  [USA-TX] [H] Asus Strix 1080 Ti OC [W] Local C...     [USA-TX]  abwlua   \n",
       "1100  [USA-FL] [H] SC GeForce GTX 1050 Ti [W] Cash l...     [USA-FL]  abvvgu   \n",
       "1104    [USA-MO] [H] Geforce GTX 1050 Ti 4GB [W] Paypal     [USA-MO]  abn4bj   \n",
       "\n",
       "        author_id author_trades             created  price    ti model  \n",
       "7        t2_48lin     Trades: 4 2019-09-09 08:36:38    550  True  1080  \n",
       "8        t2_ragfo          None 2019-09-09 03:11:21    675  True  4790  \n",
       "10       t2_algqs     Trades: 7 2019-09-08 06:16:06    560  True  1080  \n",
       "11    t2_31plw9ps    Trades: 13 2019-09-07 23:45:48    900  True  2080  \n",
       "16       t2_g9cib          None 2019-09-06 09:24:17    250  True  1070  \n",
       "...           ...           ...                 ...    ...   ...   ...  \n",
       "1091     t2_9zeer     Trades: 3 2019-01-04 07:08:23    230  True  1070  \n",
       "1094     t2_5fikj          None 2019-01-03 14:49:31    200  True   980  \n",
       "1099    t2_17ec5i    Trades: 30 2019-01-03 03:19:37    600  True  1080  \n",
       "1100    t2_142ti9          None 2019-01-03 02:08:28    110  True  1050  \n",
       "1104     t2_i4i09     Trades: 5 2019-01-02 07:08:11    100  True  1050  \n",
       "\n",
       "[366 rows x 12 columns]"
      ]
     },
     "execution_count": 19,
     "metadata": {},
     "output_type": "execute_result"
    }
   ],
   "source": [
    "df.loc[df['ti'] == True]\n"
   ]
  },
  {
   "cell_type": "code",
   "execution_count": 6,
   "metadata": {
    "collapsed": false,
    "jupyter": {
     "outputs_hidden": false
    },
    "pycharm": {
     "is_executing": false,
     "name": "#%%\n"
    }
   },
   "outputs": [
    {
     "data": {
      "text/html": [
       "<div>\n",
       "<style scoped>\n",
       "    .dataframe tbody tr th:only-of-type {\n",
       "        vertical-align: middle;\n",
       "    }\n",
       "\n",
       "    .dataframe tbody tr th {\n",
       "        vertical-align: top;\n",
       "    }\n",
       "\n",
       "    .dataframe thead th {\n",
       "        text-align: right;\n",
       "    }\n",
       "</style>\n",
       "<table border=\"1\" class=\"dataframe\">\n",
       "  <thead>\n",
       "    <tr style=\"text-align: right;\">\n",
       "      <th></th>\n",
       "      <th></th>\n",
       "      <th>price</th>\n",
       "    </tr>\n",
       "    <tr>\n",
       "      <th>model</th>\n",
       "      <th>ti</th>\n",
       "      <th></th>\n",
       "    </tr>\n",
       "  </thead>\n",
       "  <tbody>\n",
       "    <tr>\n",
       "      <td>1030</td>\n",
       "      <td>False</td>\n",
       "      <td>63.500000</td>\n",
       "    </tr>\n",
       "    <tr>\n",
       "      <td rowspan=\"2\" valign=\"top\">1050</td>\n",
       "      <td>False</td>\n",
       "      <td>75.000000</td>\n",
       "    </tr>\n",
       "    <tr>\n",
       "      <td>True</td>\n",
       "      <td>97.806452</td>\n",
       "    </tr>\n",
       "    <tr>\n",
       "      <td rowspan=\"2\" valign=\"top\">1060</td>\n",
       "      <td>False</td>\n",
       "      <td>142.471698</td>\n",
       "    </tr>\n",
       "    <tr>\n",
       "      <td>True</td>\n",
       "      <td>122.500000</td>\n",
       "    </tr>\n",
       "    <tr>\n",
       "      <td rowspan=\"2\" valign=\"top\">1070</td>\n",
       "      <td>False</td>\n",
       "      <td>227.376238</td>\n",
       "    </tr>\n",
       "    <tr>\n",
       "      <td>True</td>\n",
       "      <td>276.175000</td>\n",
       "    </tr>\n",
       "    <tr>\n",
       "      <td rowspan=\"2\" valign=\"top\">1080</td>\n",
       "      <td>False</td>\n",
       "      <td>336.672897</td>\n",
       "    </tr>\n",
       "    <tr>\n",
       "      <td>True</td>\n",
       "      <td>503.684211</td>\n",
       "    </tr>\n",
       "    <tr>\n",
       "      <td>120</td>\n",
       "      <td>False</td>\n",
       "      <td>60.000000</td>\n",
       "    </tr>\n",
       "    <tr>\n",
       "      <td>1650</td>\n",
       "      <td>False</td>\n",
       "      <td>133.333333</td>\n",
       "    </tr>\n",
       "    <tr>\n",
       "      <td rowspan=\"2\" valign=\"top\">1660</td>\n",
       "      <td>True</td>\n",
       "      <td>217.500000</td>\n",
       "    </tr>\n",
       "    <tr>\n",
       "      <td>False</td>\n",
       "      <td>170.000000</td>\n",
       "    </tr>\n",
       "    <tr>\n",
       "      <td rowspan=\"2\" valign=\"top\">2060</td>\n",
       "      <td>False</td>\n",
       "      <td>308.395349</td>\n",
       "    </tr>\n",
       "    <tr>\n",
       "      <td>True</td>\n",
       "      <td>306.666667</td>\n",
       "    </tr>\n",
       "    <tr>\n",
       "      <td rowspan=\"2\" valign=\"top\">2070</td>\n",
       "      <td>False</td>\n",
       "      <td>422.672131</td>\n",
       "    </tr>\n",
       "    <tr>\n",
       "      <td>True</td>\n",
       "      <td>492.142857</td>\n",
       "    </tr>\n",
       "    <tr>\n",
       "      <td rowspan=\"2\" valign=\"top\">2080</td>\n",
       "      <td>False</td>\n",
       "      <td>645.986486</td>\n",
       "    </tr>\n",
       "    <tr>\n",
       "      <td>True</td>\n",
       "      <td>586.560000</td>\n",
       "    </tr>\n",
       "    <tr>\n",
       "      <td rowspan=\"2\" valign=\"top\">2400</td>\n",
       "      <td>False</td>\n",
       "      <td>380.000000</td>\n",
       "    </tr>\n",
       "    <tr>\n",
       "      <td>True</td>\n",
       "      <td>600.000000</td>\n",
       "    </tr>\n",
       "    <tr>\n",
       "      <td>290</td>\n",
       "      <td>True</td>\n",
       "      <td>100.000000</td>\n",
       "    </tr>\n",
       "    <tr>\n",
       "      <td>299</td>\n",
       "      <td>True</td>\n",
       "      <td>500.000000</td>\n",
       "    </tr>\n",
       "    <tr>\n",
       "      <td>3570</td>\n",
       "      <td>False</td>\n",
       "      <td>70.000000</td>\n",
       "    </tr>\n",
       "    <tr>\n",
       "      <td>460</td>\n",
       "      <td>False</td>\n",
       "      <td>50.000000</td>\n",
       "    </tr>\n",
       "    <tr>\n",
       "      <td>4790</td>\n",
       "      <td>False</td>\n",
       "      <td>175.000000</td>\n",
       "    </tr>\n",
       "    <tr>\n",
       "      <td>480</td>\n",
       "      <td>False</td>\n",
       "      <td>130.000000</td>\n",
       "    </tr>\n",
       "    <tr>\n",
       "      <td>503</td>\n",
       "      <td>False</td>\n",
       "      <td>800.000000</td>\n",
       "    </tr>\n",
       "    <tr>\n",
       "      <td>560</td>\n",
       "      <td>True</td>\n",
       "      <td>44.000000</td>\n",
       "    </tr>\n",
       "    <tr>\n",
       "      <td rowspan=\"2\" valign=\"top\">570</td>\n",
       "      <td>False</td>\n",
       "      <td>85.000000</td>\n",
       "    </tr>\n",
       "    <tr>\n",
       "      <td>True</td>\n",
       "      <td>90.000000</td>\n",
       "    </tr>\n",
       "    <tr>\n",
       "      <td>580</td>\n",
       "      <td>False</td>\n",
       "      <td>92.500000</td>\n",
       "    </tr>\n",
       "    <tr>\n",
       "      <td>650</td>\n",
       "      <td>False</td>\n",
       "      <td>35.000000</td>\n",
       "    </tr>\n",
       "    <tr>\n",
       "      <td rowspan=\"2\" valign=\"top\">660</td>\n",
       "      <td>False</td>\n",
       "      <td>65.000000</td>\n",
       "    </tr>\n",
       "    <tr>\n",
       "      <td>True</td>\n",
       "      <td>50.000000</td>\n",
       "    </tr>\n",
       "    <tr>\n",
       "      <td>6600</td>\n",
       "      <td>False</td>\n",
       "      <td>600.000000</td>\n",
       "    </tr>\n",
       "    <tr>\n",
       "      <td>6700</td>\n",
       "      <td>True</td>\n",
       "      <td>600.000000</td>\n",
       "    </tr>\n",
       "    <tr>\n",
       "      <td>720</td>\n",
       "      <td>False</td>\n",
       "      <td>620.000000</td>\n",
       "    </tr>\n",
       "    <tr>\n",
       "      <td>750</td>\n",
       "      <td>True</td>\n",
       "      <td>46.666667</td>\n",
       "    </tr>\n",
       "    <tr>\n",
       "      <td>760</td>\n",
       "      <td>False</td>\n",
       "      <td>51.666667</td>\n",
       "    </tr>\n",
       "    <tr>\n",
       "      <td>770</td>\n",
       "      <td>False</td>\n",
       "      <td>65.833333</td>\n",
       "    </tr>\n",
       "    <tr>\n",
       "      <td>7700</td>\n",
       "      <td>True</td>\n",
       "      <td>300.000000</td>\n",
       "    </tr>\n",
       "    <tr>\n",
       "      <td rowspan=\"2\" valign=\"top\">780</td>\n",
       "      <td>False</td>\n",
       "      <td>115.000000</td>\n",
       "    </tr>\n",
       "    <tr>\n",
       "      <td>True</td>\n",
       "      <td>120.000000</td>\n",
       "    </tr>\n",
       "    <tr>\n",
       "      <td>870</td>\n",
       "      <td>False</td>\n",
       "      <td>550.000000</td>\n",
       "    </tr>\n",
       "    <tr>\n",
       "      <td>950</td>\n",
       "      <td>False</td>\n",
       "      <td>56.428571</td>\n",
       "    </tr>\n",
       "    <tr>\n",
       "      <td rowspan=\"2\" valign=\"top\">960</td>\n",
       "      <td>False</td>\n",
       "      <td>72.500000</td>\n",
       "    </tr>\n",
       "    <tr>\n",
       "      <td>True</td>\n",
       "      <td>75.000000</td>\n",
       "    </tr>\n",
       "    <tr>\n",
       "      <td>970</td>\n",
       "      <td>False</td>\n",
       "      <td>104.563636</td>\n",
       "    </tr>\n",
       "    <tr>\n",
       "      <td rowspan=\"2\" valign=\"top\">980</td>\n",
       "      <td>False</td>\n",
       "      <td>180.576923</td>\n",
       "    </tr>\n",
       "    <tr>\n",
       "      <td>True</td>\n",
       "      <td>215.131579</td>\n",
       "    </tr>\n",
       "  </tbody>\n",
       "</table>\n",
       "</div>"
      ],
      "text/plain": [
       "                  price\n",
       "model ti               \n",
       "1030  False   63.500000\n",
       "1050  False   75.000000\n",
       "      True    97.806452\n",
       "1060  False  142.471698\n",
       "      True   122.500000\n",
       "1070  False  227.376238\n",
       "      True   276.175000\n",
       "1080  False  336.672897\n",
       "      True   503.684211\n",
       "120   False   60.000000\n",
       "1650  False  133.333333\n",
       "1660  True   217.500000\n",
       "      False  170.000000\n",
       "2060  False  308.395349\n",
       "      True   306.666667\n",
       "2070  False  422.672131\n",
       "      True   492.142857\n",
       "2080  False  645.986486\n",
       "      True   586.560000\n",
       "2400  False  380.000000\n",
       "      True   600.000000\n",
       "290   True   100.000000\n",
       "299   True   500.000000\n",
       "3570  False   70.000000\n",
       "460   False   50.000000\n",
       "4790  False  175.000000\n",
       "480   False  130.000000\n",
       "503   False  800.000000\n",
       "560   True    44.000000\n",
       "570   False   85.000000\n",
       "      True    90.000000\n",
       "580   False   92.500000\n",
       "650   False   35.000000\n",
       "660   False   65.000000\n",
       "      True    50.000000\n",
       "6600  False  600.000000\n",
       "6700  True   600.000000\n",
       "720   False  620.000000\n",
       "750   True    46.666667\n",
       "760   False   51.666667\n",
       "770   False   65.833333\n",
       "7700  True   300.000000\n",
       "780   False  115.000000\n",
       "      True   120.000000\n",
       "870   False  550.000000\n",
       "950   False   56.428571\n",
       "960   False   72.500000\n",
       "      True    75.000000\n",
       "970   False  104.563636\n",
       "980   False  180.576923\n",
       "      True   215.131579"
      ]
     },
     "metadata": {},
     "output_type": "display_data"
    }
   ],
   "source": [
    "with pd.option_context(\"display.max_rows\", 1000):\n",
    "    display(model_price)\n"
   ]
  },
  {
   "cell_type": "code",
   "execution_count": 18,
   "metadata": {
    "collapsed": false,
    "jupyter": {
     "outputs_hidden": false
    },
    "pycharm": {
     "is_executing": false,
     "name": "#%%\n"
    }
   },
   "outputs": [
    {
     "data": {
      "text/html": [
       "<div>\n",
       "<style scoped>\n",
       "    .dataframe tbody tr th:only-of-type {\n",
       "        vertical-align: middle;\n",
       "    }\n",
       "\n",
       "    .dataframe tbody tr th {\n",
       "        vertical-align: top;\n",
       "    }\n",
       "\n",
       "    .dataframe thead th {\n",
       "        text-align: right;\n",
       "    }\n",
       "</style>\n",
       "<table border=\"1\" class=\"dataframe\">\n",
       "  <thead>\n",
       "    <tr style=\"text-align: right;\">\n",
       "      <th></th>\n",
       "      <th>title_select</th>\n",
       "      <th>selected_text</th>\n",
       "      <th>full_text</th>\n",
       "      <th>full_title</th>\n",
       "      <th>location_tag</th>\n",
       "      <th>post_id</th>\n",
       "      <th>author_id</th>\n",
       "      <th>author_trades</th>\n",
       "      <th>created</th>\n",
       "      <th>price</th>\n",
       "      <th>ti</th>\n",
       "      <th>model</th>\n",
       "    </tr>\n",
       "  </thead>\n",
       "  <tbody>\n",
       "    <tr>\n",
       "      <th>807</th>\n",
       "      <td>r9 290x w/accel-x3 | gtx 980ti 6gb | r9 390x ...</td>\n",
       "      <td>$100</td>\n",
       "      <td>Items For Sale...\\n\\n# Prices Revised (per sug...</td>\n",
       "      <td>[USA-CT] [H] R9 290X w/ACCEL-X3 | GTX 980TI 6G...</td>\n",
       "      <td>[USA-CT]</td>\n",
       "      <td>az7bh9</td>\n",
       "      <td>t2_pba7d</td>\n",
       "      <td>Trades: 26</td>\n",
       "      <td>2019-03-10 03:50:53</td>\n",
       "      <td>100</td>\n",
       "      <td>True</td>\n",
       "      <td>290</td>\n",
       "    </tr>\n",
       "  </tbody>\n",
       "</table>\n",
       "</div>"
      ],
      "text/plain": [
       "                                          title_select selected_text  \\\n",
       "807   r9 290x w/accel-x3 | gtx 980ti 6gb | r9 390x ...          $100   \n",
       "\n",
       "                                             full_text  \\\n",
       "807  Items For Sale...\\n\\n# Prices Revised (per sug...   \n",
       "\n",
       "                                            full_title location_tag post_id  \\\n",
       "807  [USA-CT] [H] R9 290X w/ACCEL-X3 | GTX 980TI 6G...     [USA-CT]  az7bh9   \n",
       "\n",
       "    author_id author_trades             created  price    ti model  \n",
       "807  t2_pba7d    Trades: 26 2019-03-10 03:50:53    100  True   290  "
      ]
     },
     "execution_count": 18,
     "metadata": {},
     "output_type": "execute_result"
    }
   ],
   "source": [
    "df.loc[df['model']=='290']"
   ]
  },
  {
   "cell_type": "code",
   "execution_count": 7,
   "metadata": {
    "collapsed": false,
    "jupyter": {
     "outputs_hidden": false
    },
    "pycharm": {
     "is_executing": false,
     "name": "#%%\n"
    }
   },
   "outputs": [],
   "source": [
    "test_price_df = pd.DataFrame()"
   ]
  },
  {
   "cell_type": "code",
   "execution_count": 12,
   "metadata": {
    "collapsed": false,
    "jupyter": {
     "outputs_hidden": false
    },
    "pycharm": {
     "is_executing": false,
     "name": "#%%\n"
    }
   },
   "outputs": [],
   "source": [
    "test_price_df['model'] = model_price['model',].map"
   ]
  },
  {
   "cell_type": "code",
   "execution_count": 19,
   "metadata": {
    "collapsed": false,
    "jupyter": {
     "outputs_hidden": false
    },
    "pycharm": {
     "is_executing": false,
     "name": "#%%\n"
    }
   },
   "outputs": [],
   "source": [
    "model_price = model_price.reset_index()"
   ]
  },
  {
   "cell_type": "code",
   "execution_count": 29,
   "metadata": {
    "collapsed": false,
    "jupyter": {
     "outputs_hidden": false
    },
    "pycharm": {
     "is_executing": false,
     "name": "#%%\n"
    }
   },
   "outputs": [],
   "source": [
    "test_price_df['model'] = model_price['model'].loc[model_price['ti'] == False]"
   ]
  },
  {
   "cell_type": "code",
   "execution_count": 44,
   "metadata": {
    "collapsed": false,
    "jupyter": {
     "outputs_hidden": false
    },
    "pycharm": {
     "is_executing": false,
     "name": "#%%\n"
    }
   },
   "outputs": [],
   "source": [
    "backup_test_prices = test_price_df.copy()"
   ]
  },
  {
   "cell_type": "code",
   "execution_count": 42,
   "metadata": {
    "collapsed": false,
    "jupyter": {
     "outputs_hidden": false
    },
    "pycharm": {
     "is_executing": false,
     "name": "#%%\n"
    }
   },
   "outputs": [],
   "source": [
    "\n",
    "ti_model_series = model_price.reset_index()['model'].loc[model_price['ti'] == True].map(lambda x: x+'ti')"
   ]
  },
  {
   "cell_type": "code",
   "execution_count": 59,
   "metadata": {
    "collapsed": false,
    "jupyter": {
     "outputs_hidden": false
    },
    "pycharm": {
     "is_executing": false,
     "name": "#%%\n"
    }
   },
   "outputs": [],
   "source": [
    "test_price_df['model'] = pd.Series.append(test_price_df['model'], ti_model_series, ignore_index=True)"
   ]
  },
  {
   "cell_type": "code",
   "execution_count": 60,
   "metadata": {
    "collapsed": false,
    "jupyter": {
     "outputs_hidden": false
    },
    "pycharm": {
     "is_executing": false,
     "name": "#%%\n"
    }
   },
   "outputs": [
    {
     "data": {
      "text/html": [
       "<div>\n",
       "<style scoped>\n",
       "    .dataframe tbody tr th:only-of-type {\n",
       "        vertical-align: middle;\n",
       "    }\n",
       "\n",
       "    .dataframe tbody tr th {\n",
       "        vertical-align: top;\n",
       "    }\n",
       "\n",
       "    .dataframe thead th {\n",
       "        text-align: right;\n",
       "    }\n",
       "</style>\n",
       "<table border=\"1\" class=\"dataframe\">\n",
       "  <thead>\n",
       "    <tr style=\"text-align: right;\">\n",
       "      <th></th>\n",
       "      <th>model</th>\n",
       "    </tr>\n",
       "  </thead>\n",
       "  <tbody>\n",
       "    <tr>\n",
       "      <td>2</td>\n",
       "      <td>1070</td>\n",
       "    </tr>\n",
       "    <tr>\n",
       "      <td>4</td>\n",
       "      <td>1660</td>\n",
       "    </tr>\n",
       "    <tr>\n",
       "      <td>6</td>\n",
       "      <td>2070</td>\n",
       "    </tr>\n",
       "    <tr>\n",
       "      <td>8</td>\n",
       "      <td>2400</td>\n",
       "    </tr>\n",
       "    <tr>\n",
       "      <td>11</td>\n",
       "      <td>560</td>\n",
       "    </tr>\n",
       "    <tr>\n",
       "      <td>14</td>\n",
       "      <td>6700</td>\n",
       "    </tr>\n",
       "    <tr>\n",
       "      <td>16</td>\n",
       "      <td>7700</td>\n",
       "    </tr>\n",
       "    <tr>\n",
       "      <td>18</td>\n",
       "      <td>960</td>\n",
       "    </tr>\n",
       "    <tr>\n",
       "      <td>20</td>\n",
       "      <td>1050ti</td>\n",
       "    </tr>\n",
       "    <tr>\n",
       "      <td>21</td>\n",
       "      <td>1060ti</td>\n",
       "    </tr>\n",
       "    <tr>\n",
       "      <td>22</td>\n",
       "      <td>1070ti</td>\n",
       "    </tr>\n",
       "    <tr>\n",
       "      <td>28</td>\n",
       "      <td>2400ti</td>\n",
       "    </tr>\n",
       "    <tr>\n",
       "      <td>30</td>\n",
       "      <td>299ti</td>\n",
       "    </tr>\n",
       "    <tr>\n",
       "      <td>34</td>\n",
       "      <td>6700ti</td>\n",
       "    </tr>\n",
       "    <tr>\n",
       "      <td>36</td>\n",
       "      <td>7700ti</td>\n",
       "    </tr>\n",
       "    <tr>\n",
       "      <td>38</td>\n",
       "      <td>960ti</td>\n",
       "    </tr>\n",
       "    <tr>\n",
       "      <td>41</td>\n",
       "      <td>NaN</td>\n",
       "    </tr>\n",
       "    <tr>\n",
       "      <td>43</td>\n",
       "      <td>NaN</td>\n",
       "    </tr>\n",
       "    <tr>\n",
       "      <td>47</td>\n",
       "      <td>NaN</td>\n",
       "    </tr>\n",
       "    <tr>\n",
       "      <td>50</td>\n",
       "      <td>NaN</td>\n",
       "    </tr>\n",
       "  </tbody>\n",
       "</table>\n",
       "</div>"
      ],
      "text/plain": [
       "     model\n",
       "2     1070\n",
       "4     1660\n",
       "6     2070\n",
       "8     2400\n",
       "11     560\n",
       "14    6700\n",
       "16    7700\n",
       "18     960\n",
       "20  1050ti\n",
       "21  1060ti\n",
       "22  1070ti\n",
       "28  2400ti\n",
       "30   299ti\n",
       "34  6700ti\n",
       "36  7700ti\n",
       "38   960ti\n",
       "41     NaN\n",
       "43     NaN\n",
       "47     NaN\n",
       "50     NaN"
      ]
     },
     "execution_count": 60,
     "metadata": {},
     "output_type": "execute_result"
    }
   ],
   "source": [
    "test_price_df\n"
   ]
  },
  {
   "cell_type": "code",
   "execution_count": 32,
   "metadata": {
    "collapsed": false,
    "jupyter": {
     "outputs_hidden": false
    },
    "pycharm": {
     "is_executing": false,
     "name": "#%%\n"
    }
   },
   "outputs": [],
   "source": [
    "test_price_df['model'] = model_price['model']"
   ]
  },
  {
   "cell_type": "code",
   "execution_count": 38,
   "metadata": {
    "collapsed": false,
    "jupyter": {
     "outputs_hidden": false
    },
    "pycharm": {
     "is_executing": false,
     "name": "#%%\n"
    }
   },
   "outputs": [
    {
     "data": {
      "text/html": [
       "<div>\n",
       "<style scoped>\n",
       "    .dataframe tbody tr th:only-of-type {\n",
       "        vertical-align: middle;\n",
       "    }\n",
       "\n",
       "    .dataframe tbody tr th {\n",
       "        vertical-align: top;\n",
       "    }\n",
       "\n",
       "    .dataframe thead th {\n",
       "        text-align: right;\n",
       "    }\n",
       "</style>\n",
       "<table border=\"1\" class=\"dataframe\">\n",
       "  <thead>\n",
       "    <tr style=\"text-align: right;\">\n",
       "      <th></th>\n",
       "      <th>model</th>\n",
       "    </tr>\n",
       "  </thead>\n",
       "  <tbody>\n",
       "    <tr>\n",
       "      <td>2</td>\n",
       "      <td>1050</td>\n",
       "    </tr>\n",
       "    <tr>\n",
       "      <td>4</td>\n",
       "      <td>1060</td>\n",
       "    </tr>\n",
       "    <tr>\n",
       "      <td>6</td>\n",
       "      <td>1070</td>\n",
       "    </tr>\n",
       "    <tr>\n",
       "      <td>8</td>\n",
       "      <td>1080</td>\n",
       "    </tr>\n",
       "    <tr>\n",
       "      <td>11</td>\n",
       "      <td>1660</td>\n",
       "    </tr>\n",
       "    <tr>\n",
       "      <td>14</td>\n",
       "      <td>2060</td>\n",
       "    </tr>\n",
       "    <tr>\n",
       "      <td>16</td>\n",
       "      <td>2070</td>\n",
       "    </tr>\n",
       "    <tr>\n",
       "      <td>18</td>\n",
       "      <td>2080</td>\n",
       "    </tr>\n",
       "    <tr>\n",
       "      <td>20</td>\n",
       "      <td>2400</td>\n",
       "    </tr>\n",
       "    <tr>\n",
       "      <td>21</td>\n",
       "      <td>290</td>\n",
       "    </tr>\n",
       "    <tr>\n",
       "      <td>22</td>\n",
       "      <td>299</td>\n",
       "    </tr>\n",
       "    <tr>\n",
       "      <td>28</td>\n",
       "      <td>560</td>\n",
       "    </tr>\n",
       "    <tr>\n",
       "      <td>30</td>\n",
       "      <td>570</td>\n",
       "    </tr>\n",
       "    <tr>\n",
       "      <td>34</td>\n",
       "      <td>660</td>\n",
       "    </tr>\n",
       "    <tr>\n",
       "      <td>36</td>\n",
       "      <td>6700</td>\n",
       "    </tr>\n",
       "    <tr>\n",
       "      <td>38</td>\n",
       "      <td>750</td>\n",
       "    </tr>\n",
       "    <tr>\n",
       "      <td>41</td>\n",
       "      <td>7700</td>\n",
       "    </tr>\n",
       "    <tr>\n",
       "      <td>43</td>\n",
       "      <td>780</td>\n",
       "    </tr>\n",
       "    <tr>\n",
       "      <td>47</td>\n",
       "      <td>960</td>\n",
       "    </tr>\n",
       "    <tr>\n",
       "      <td>50</td>\n",
       "      <td>980</td>\n",
       "    </tr>\n",
       "  </tbody>\n",
       "</table>\n",
       "</div>"
      ],
      "text/plain": [
       "   model\n",
       "2   1050\n",
       "4   1060\n",
       "6   1070\n",
       "8   1080\n",
       "11  1660\n",
       "14  2060\n",
       "16  2070\n",
       "18  2080\n",
       "20  2400\n",
       "21   290\n",
       "22   299\n",
       "28   560\n",
       "30   570\n",
       "34   660\n",
       "36  6700\n",
       "38   750\n",
       "41  7700\n",
       "43   780\n",
       "47   960\n",
       "50   980"
      ]
     },
     "execution_count": 38,
     "metadata": {},
     "output_type": "execute_result"
    }
   ],
   "source": [
    "test_price_df"
   ]
  },
  {
   "cell_type": "code",
   "execution_count": null,
   "metadata": {
    "collapsed": false,
    "jupyter": {
     "outputs_hidden": false
    },
    "pycharm": {
     "name": "#%%\n"
    }
   },
   "outputs": [],
   "source": []
  },
  {
   "cell_type": "markdown",
   "metadata": {},
   "source": [
    "graph plan:\n",
    "* Count of each model histogram/bar chart\n",
    "    * need to figure out how to separate model from ti models\n",
    "* price/performance used\n",
    "    * this needs pricing data from wiki? MSRP\n",
    "    * performance data from website\n",
    "        * this will take time but is just copy pasting values.\n"
   ]
  },
  {
   "cell_type": "code",
   "execution_count": 6,
   "outputs": [],
   "source": [
    "from pymongo_db import db\n",
    "\n",
    "collection = db['frontend']\n",
    "\n",
    "df = pd.DataFrame.from_records(collection.find())\n"
   ],
   "metadata": {
    "collapsed": false,
    "pycharm": {
     "name": "#%%\n",
     "is_executing": false
    }
   }
  },
  {
   "cell_type": "code",
   "execution_count": 45,
   "outputs": [],
   "source": [
    "x = df[['model','is_ti', 'price']].groupby(['model', 'is_ti']).agg('mean').reset_index()"
   ],
   "metadata": {
    "collapsed": false,
    "pycharm": {
     "name": "#%%\n",
     "is_executing": false
    }
   }
  },
  {
   "cell_type": "code",
   "execution_count": 97,
   "outputs": [],
   "source": [
    "models = np.unique(x.model)\n",
    "test = pd.DataFrame({'model':models})"
   ],
   "metadata": {
    "collapsed": false,
    "pycharm": {
     "name": "#%%\n",
     "is_executing": false
    }
   }
  },
  {
   "cell_type": "code",
   "execution_count": 36,
   "outputs": [
    {
     "traceback": [
      "\u001b[0;31m---------------------------------------------------------------------------\u001b[0m",
      "\u001b[0;31mValueError\u001b[0m                                Traceback (most recent call last)",
      "\u001b[0;32m<ipython-input-36-7c57a814b3b3>\u001b[0m in \u001b[0;36m<module>\u001b[0;34m\u001b[0m\n\u001b[0;32m----> 1\u001b[0;31m \u001b[0mtest\u001b[0m\u001b[0;34m.\u001b[0m\u001b[0mloc\u001b[0m\u001b[0;34m[\u001b[0m\u001b[0;34m:\u001b[0m\u001b[0;34m,\u001b[0m \u001b[0;34m'non_ti_price'\u001b[0m\u001b[0;34m]\u001b[0m \u001b[0;34m=\u001b[0m \u001b[0mtest\u001b[0m\u001b[0;34m.\u001b[0m\u001b[0mmodel\u001b[0m\u001b[0;34m.\u001b[0m\u001b[0mmap\u001b[0m\u001b[0;34m(\u001b[0m\u001b[0;32mlambda\u001b[0m \u001b[0mmodel\u001b[0m\u001b[0;34m:\u001b[0m \u001b[0;34m(\u001b[0m\u001b[0mx\u001b[0m\u001b[0;34m.\u001b[0m\u001b[0mprice\u001b[0m\u001b[0;34m.\u001b[0m\u001b[0mat\u001b[0m\u001b[0;34m[\u001b[0m\u001b[0mx\u001b[0m\u001b[0;34m.\u001b[0m\u001b[0mloc\u001b[0m\u001b[0;34m[\u001b[0m\u001b[0;34m(\u001b[0m\u001b[0mx\u001b[0m\u001b[0;34m.\u001b[0m\u001b[0mis_ti\u001b[0m\u001b[0;34m==\u001b[0m\u001b[0;32mFalse\u001b[0m\u001b[0;34m)\u001b[0m \u001b[0;34m&\u001b[0m \u001b[0;34m(\u001b[0m\u001b[0mx\u001b[0m\u001b[0;34m.\u001b[0m\u001b[0mmodel\u001b[0m \u001b[0;34m==\u001b[0m \u001b[0mmodel\u001b[0m\u001b[0;34m)\u001b[0m\u001b[0;34m]\u001b[0m\u001b[0;34m]\u001b[0m\u001b[0;34m)\u001b[0m\u001b[0;34m)\u001b[0m\u001b[0;34m\u001b[0m\u001b[0;34m\u001b[0m\u001b[0m\n\u001b[0m\u001b[1;32m      2\u001b[0m \u001b[0;31m# test.loc[:, 'ti_price'] = test.model.map(lambda model: (x.price.at[(x.is_ti==True) & (x.model == model)]))\u001b[0m\u001b[0;34m\u001b[0m\u001b[0;34m\u001b[0m\u001b[0;34m\u001b[0m\u001b[0m\n",
      "\u001b[0;32m~/anaconda3/envs/Aesops-Pawnshop/lib/python3.7/site-packages/pandas/core/series.py\u001b[0m in \u001b[0;36mmap\u001b[0;34m(self, arg, na_action)\u001b[0m\n\u001b[1;32m   3629\u001b[0m         \u001b[0mdtype\u001b[0m\u001b[0;34m:\u001b[0m \u001b[0mobject\u001b[0m\u001b[0;34m\u001b[0m\u001b[0;34m\u001b[0m\u001b[0m\n\u001b[1;32m   3630\u001b[0m         \"\"\"\n\u001b[0;32m-> 3631\u001b[0;31m         \u001b[0mnew_values\u001b[0m \u001b[0;34m=\u001b[0m \u001b[0msuper\u001b[0m\u001b[0;34m(\u001b[0m\u001b[0;34m)\u001b[0m\u001b[0;34m.\u001b[0m\u001b[0m_map_values\u001b[0m\u001b[0;34m(\u001b[0m\u001b[0marg\u001b[0m\u001b[0;34m,\u001b[0m \u001b[0mna_action\u001b[0m\u001b[0;34m=\u001b[0m\u001b[0mna_action\u001b[0m\u001b[0;34m)\u001b[0m\u001b[0;34m\u001b[0m\u001b[0;34m\u001b[0m\u001b[0m\n\u001b[0m\u001b[1;32m   3632\u001b[0m         \u001b[0;32mreturn\u001b[0m \u001b[0mself\u001b[0m\u001b[0;34m.\u001b[0m\u001b[0m_constructor\u001b[0m\u001b[0;34m(\u001b[0m\u001b[0mnew_values\u001b[0m\u001b[0;34m,\u001b[0m \u001b[0mindex\u001b[0m\u001b[0;34m=\u001b[0m\u001b[0mself\u001b[0m\u001b[0;34m.\u001b[0m\u001b[0mindex\u001b[0m\u001b[0;34m)\u001b[0m\u001b[0;34m.\u001b[0m\u001b[0m__finalize__\u001b[0m\u001b[0;34m(\u001b[0m\u001b[0mself\u001b[0m\u001b[0;34m)\u001b[0m\u001b[0;34m\u001b[0m\u001b[0;34m\u001b[0m\u001b[0m\n\u001b[1;32m   3633\u001b[0m \u001b[0;34m\u001b[0m\u001b[0m\n",
      "\u001b[0;32m~/anaconda3/envs/Aesops-Pawnshop/lib/python3.7/site-packages/pandas/core/base.py\u001b[0m in \u001b[0;36m_map_values\u001b[0;34m(self, mapper, na_action)\u001b[0m\n\u001b[1;32m   1152\u001b[0m \u001b[0;34m\u001b[0m\u001b[0m\n\u001b[1;32m   1153\u001b[0m         \u001b[0;31m# mapper is a function\u001b[0m\u001b[0;34m\u001b[0m\u001b[0;34m\u001b[0m\u001b[0;34m\u001b[0m\u001b[0m\n\u001b[0;32m-> 1154\u001b[0;31m         \u001b[0mnew_values\u001b[0m \u001b[0;34m=\u001b[0m \u001b[0mmap_f\u001b[0m\u001b[0;34m(\u001b[0m\u001b[0mvalues\u001b[0m\u001b[0;34m,\u001b[0m \u001b[0mmapper\u001b[0m\u001b[0;34m)\u001b[0m\u001b[0;34m\u001b[0m\u001b[0;34m\u001b[0m\u001b[0m\n\u001b[0m\u001b[1;32m   1155\u001b[0m \u001b[0;34m\u001b[0m\u001b[0m\n\u001b[1;32m   1156\u001b[0m         \u001b[0;32mreturn\u001b[0m \u001b[0mnew_values\u001b[0m\u001b[0;34m\u001b[0m\u001b[0;34m\u001b[0m\u001b[0m\n",
      "\u001b[0;32mpandas/_libs/lib.pyx\u001b[0m in \u001b[0;36mpandas._libs.lib.map_infer\u001b[0;34m()\u001b[0m\n",
      "\u001b[0;32m<ipython-input-36-7c57a814b3b3>\u001b[0m in \u001b[0;36m<lambda>\u001b[0;34m(model)\u001b[0m\n\u001b[0;32m----> 1\u001b[0;31m \u001b[0mtest\u001b[0m\u001b[0;34m.\u001b[0m\u001b[0mloc\u001b[0m\u001b[0;34m[\u001b[0m\u001b[0;34m:\u001b[0m\u001b[0;34m,\u001b[0m \u001b[0;34m'non_ti_price'\u001b[0m\u001b[0;34m]\u001b[0m \u001b[0;34m=\u001b[0m \u001b[0mtest\u001b[0m\u001b[0;34m.\u001b[0m\u001b[0mmodel\u001b[0m\u001b[0;34m.\u001b[0m\u001b[0mmap\u001b[0m\u001b[0;34m(\u001b[0m\u001b[0;32mlambda\u001b[0m \u001b[0mmodel\u001b[0m\u001b[0;34m:\u001b[0m \u001b[0;34m(\u001b[0m\u001b[0mx\u001b[0m\u001b[0;34m.\u001b[0m\u001b[0mprice\u001b[0m\u001b[0;34m.\u001b[0m\u001b[0mat\u001b[0m\u001b[0;34m[\u001b[0m\u001b[0mx\u001b[0m\u001b[0;34m.\u001b[0m\u001b[0mloc\u001b[0m\u001b[0;34m[\u001b[0m\u001b[0;34m(\u001b[0m\u001b[0mx\u001b[0m\u001b[0;34m.\u001b[0m\u001b[0mis_ti\u001b[0m\u001b[0;34m==\u001b[0m\u001b[0;32mFalse\u001b[0m\u001b[0;34m)\u001b[0m \u001b[0;34m&\u001b[0m \u001b[0;34m(\u001b[0m\u001b[0mx\u001b[0m\u001b[0;34m.\u001b[0m\u001b[0mmodel\u001b[0m \u001b[0;34m==\u001b[0m \u001b[0mmodel\u001b[0m\u001b[0;34m)\u001b[0m\u001b[0;34m]\u001b[0m\u001b[0;34m]\u001b[0m\u001b[0;34m)\u001b[0m\u001b[0;34m)\u001b[0m\u001b[0;34m\u001b[0m\u001b[0;34m\u001b[0m\u001b[0m\n\u001b[0m\u001b[1;32m      2\u001b[0m \u001b[0;31m# test.loc[:, 'ti_price'] = test.model.map(lambda model: (x.price.at[(x.is_ti==True) & (x.model == model)]))\u001b[0m\u001b[0;34m\u001b[0m\u001b[0;34m\u001b[0m\u001b[0;34m\u001b[0m\u001b[0m\n",
      "\u001b[0;32m~/anaconda3/envs/Aesops-Pawnshop/lib/python3.7/site-packages/pandas/core/indexing.py\u001b[0m in \u001b[0;36m__getitem__\u001b[0;34m(self, key)\u001b[0m\n\u001b[1;32m   2172\u001b[0m                 \u001b[0mkey\u001b[0m \u001b[0;34m=\u001b[0m \u001b[0mtuple\u001b[0m\u001b[0;34m(\u001b[0m\u001b[0;34m[\u001b[0m\u001b[0mkey\u001b[0m\u001b[0;34m]\u001b[0m\u001b[0;34m)\u001b[0m\u001b[0;34m\u001b[0m\u001b[0;34m\u001b[0m\u001b[0m\n\u001b[1;32m   2173\u001b[0m             \u001b[0;32melse\u001b[0m\u001b[0;34m:\u001b[0m\u001b[0;34m\u001b[0m\u001b[0;34m\u001b[0m\u001b[0m\n\u001b[0;32m-> 2174\u001b[0;31m                 \u001b[0;32mraise\u001b[0m \u001b[0mValueError\u001b[0m\u001b[0;34m(\u001b[0m\u001b[0;34m\"Invalid call for scalar access (getting)!\"\u001b[0m\u001b[0;34m)\u001b[0m\u001b[0;34m\u001b[0m\u001b[0;34m\u001b[0m\u001b[0m\n\u001b[0m\u001b[1;32m   2175\u001b[0m \u001b[0;34m\u001b[0m\u001b[0m\n\u001b[1;32m   2176\u001b[0m         \u001b[0mkey\u001b[0m \u001b[0;34m=\u001b[0m \u001b[0mself\u001b[0m\u001b[0;34m.\u001b[0m\u001b[0m_convert_key\u001b[0m\u001b[0;34m(\u001b[0m\u001b[0mkey\u001b[0m\u001b[0;34m)\u001b[0m\u001b[0;34m\u001b[0m\u001b[0;34m\u001b[0m\u001b[0m\n",
      "\u001b[0;31mValueError\u001b[0m: Invalid call for scalar access (getting)!"
     ],
     "ename": "ValueError",
     "evalue": "Invalid call for scalar access (getting)!",
     "output_type": "error"
    }
   ],
   "source": [
    "test.loc[:, 'non_ti_price'] = test.model.map(lambda model: (x.price.at[x.loc[(x.is_ti==False) & (x.model == model)]]))\n",
    "# test.loc[:, 'ti_price'] = test.model.map(lambda model: (x.price.at[(x.is_ti==True) & (x.model == model)]))"
   ],
   "metadata": {
    "collapsed": false,
    "pycharm": {
     "name": "#%%\n",
     "is_executing": false
    }
   }
  },
  {
   "cell_type": "code",
   "execution_count": 95,
   "outputs": [
    {
     "data": {
      "text/plain": "0       0.000000\n1     110.000000\n2       0.000000\n3       0.000000\n4       0.000000\n5     243.478261\n6       0.000000\n7     105.000000\n8       0.000000\n9     295.076923\n10    512.812500\n11      0.000000\n12    217.500000\n13      0.000000\n14      0.000000\n15    538.386364\nName: model, dtype: float64"
     },
     "metadata": {},
     "output_type": "execute_result",
     "execution_count": 95
    }
   ],
   "source": [
    "# x.price.loc[(x.model==760) & (x.is_ti==True)]\n",
    "ti_toggle = True\n",
    "test.model.map(lambda model:x.price.loc[(x.model==model)&(x.is_ti==ti_toggle)].values[0] if (x.price.loc[(x.model==model)&(x.is_ti==ti_toggle)]).size !=0 else 0)"
   ],
   "metadata": {
    "collapsed": false,
    "pycharm": {
     "name": "#%%\n",
     "is_executing": false
    }
   }
  },
  {
   "cell_type": "code",
   "execution_count": 112,
   "outputs": [
    {
     "data": {
      "text/plain": "    model  non_ti_price    ti_price\n0     760     69.285714    0.000000\n1     780    106.666667  110.000000\n2     950     56.428571    0.000000\n3     960     82.121212    0.000000\n4     970    105.183333    0.000000\n5     980    194.333333  243.478261\n6    1030     63.500000    0.000000\n7    1050    108.037037  105.000000\n8    1060    155.101695    0.000000\n9    1070    243.720930  295.076923\n10   1080    351.682432  512.812500\n11   1650    133.333333    0.000000\n12   1660    170.000000  217.500000\n13   2060    309.170213    0.000000\n14   2070    431.777778    0.000000\n15   2080    639.107527  538.386364",
      "text/html": "<div>\n<style scoped>\n    .dataframe tbody tr th:only-of-type {\n        vertical-align: middle;\n    }\n\n    .dataframe tbody tr th {\n        vertical-align: top;\n    }\n\n    .dataframe thead th {\n        text-align: right;\n    }\n</style>\n<table border=\"1\" class=\"dataframe\">\n  <thead>\n    <tr style=\"text-align: right;\">\n      <th></th>\n      <th>model</th>\n      <th>non_ti_price</th>\n      <th>ti_price</th>\n    </tr>\n  </thead>\n  <tbody>\n    <tr>\n      <th>0</th>\n      <td>760</td>\n      <td>69.285714</td>\n      <td>0.000000</td>\n    </tr>\n    <tr>\n      <th>1</th>\n      <td>780</td>\n      <td>106.666667</td>\n      <td>110.000000</td>\n    </tr>\n    <tr>\n      <th>2</th>\n      <td>950</td>\n      <td>56.428571</td>\n      <td>0.000000</td>\n    </tr>\n    <tr>\n      <th>3</th>\n      <td>960</td>\n      <td>82.121212</td>\n      <td>0.000000</td>\n    </tr>\n    <tr>\n      <th>4</th>\n      <td>970</td>\n      <td>105.183333</td>\n      <td>0.000000</td>\n    </tr>\n    <tr>\n      <th>5</th>\n      <td>980</td>\n      <td>194.333333</td>\n      <td>243.478261</td>\n    </tr>\n    <tr>\n      <th>6</th>\n      <td>1030</td>\n      <td>63.500000</td>\n      <td>0.000000</td>\n    </tr>\n    <tr>\n      <th>7</th>\n      <td>1050</td>\n      <td>108.037037</td>\n      <td>105.000000</td>\n    </tr>\n    <tr>\n      <th>8</th>\n      <td>1060</td>\n      <td>155.101695</td>\n      <td>0.000000</td>\n    </tr>\n    <tr>\n      <th>9</th>\n      <td>1070</td>\n      <td>243.720930</td>\n      <td>295.076923</td>\n    </tr>\n    <tr>\n      <th>10</th>\n      <td>1080</td>\n      <td>351.682432</td>\n      <td>512.812500</td>\n    </tr>\n    <tr>\n      <th>11</th>\n      <td>1650</td>\n      <td>133.333333</td>\n      <td>0.000000</td>\n    </tr>\n    <tr>\n      <th>12</th>\n      <td>1660</td>\n      <td>170.000000</td>\n      <td>217.500000</td>\n    </tr>\n    <tr>\n      <th>13</th>\n      <td>2060</td>\n      <td>309.170213</td>\n      <td>0.000000</td>\n    </tr>\n    <tr>\n      <th>14</th>\n      <td>2070</td>\n      <td>431.777778</td>\n      <td>0.000000</td>\n    </tr>\n    <tr>\n      <th>15</th>\n      <td>2080</td>\n      <td>639.107527</td>\n      <td>538.386364</td>\n    </tr>\n  </tbody>\n</table>\n</div>"
     },
     "metadata": {},
     "output_type": "execute_result",
     "execution_count": 112
    }
   ],
   "source": [
    "y = test.merge(x[['model', 'price']].loc[x.is_ti==False], on='model').rename(columns={'price':\"non_ti_price\"})\n",
    "y = y.merge(x[['model', 'price']].loc[x.is_ti==True], on='model', how='outer').rename(columns={'price':\"ti_price\"})\n",
    "y = y.fillna(0.0)"
   ],
   "metadata": {
    "collapsed": false,
    "pycharm": {
     "name": "#%%\n",
     "is_executing": false
    }
   }
  },
  {
   "cell_type": "code",
   "execution_count": 117,
   "outputs": [
    {
     "data": {
      "text/plain": "'[{\"model\":760,\"non_ti_price\":69.2857142857,\"ti_price\":0.0},{\"model\":780,\"non_ti_price\":106.6666666667,\"ti_price\":110.0},{\"model\":950,\"non_ti_price\":56.4285714286,\"ti_price\":0.0},{\"model\":960,\"non_ti_price\":82.1212121212,\"ti_price\":0.0},{\"model\":970,\"non_ti_price\":105.1833333333,\"ti_price\":0.0},{\"model\":980,\"non_ti_price\":194.3333333333,\"ti_price\":243.4782608696},{\"model\":1030,\"non_ti_price\":63.5,\"ti_price\":0.0},{\"model\":1050,\"non_ti_price\":108.037037037,\"ti_price\":105.0},{\"model\":1060,\"non_ti_price\":155.1016949153,\"ti_price\":0.0},{\"model\":1070,\"non_ti_price\":243.7209302326,\"ti_price\":295.0769230769},{\"model\":1080,\"non_ti_price\":351.6824324324,\"ti_price\":512.8125},{\"model\":1650,\"non_ti_price\":133.3333333333,\"ti_price\":0.0},{\"model\":1660,\"non_ti_price\":170.0,\"ti_price\":217.5},{\"model\":2060,\"non_ti_price\":309.170212766,\"ti_price\":0.0},{\"model\":2070,\"non_ti_price\":431.7777777778,\"ti_price\":0.0},{\"model\":2080,\"non_ti_price\":639.1075268817,\"ti_price\":538.3863636364}]'"
     },
     "metadata": {},
     "output_type": "execute_result",
     "execution_count": 117
    }
   ],
   "source": [
    "y.to_json(orient='records')"
   ],
   "metadata": {
    "collapsed": false,
    "pycharm": {
     "name": "#%%\n",
     "is_executing": false
    }
   }
  }
 ],
 "metadata": {
  "kernelspec": {
   "display_name": "Python 3",
   "language": "python",
   "name": "python3"
  },
  "language_info": {
   "codemirror_mode": {
    "name": "ipython",
    "version": 3
   },
   "file_extension": ".py",
   "mimetype": "text/x-python",
   "name": "python",
   "nbconvert_exporter": "python",
   "pygments_lexer": "ipython3",
   "version": "3.7.3"
  },
  "pycharm": {
   "stem_cell": {
    "cell_type": "raw",
    "source": [],
    "metadata": {
     "collapsed": false
    }
   }
  }
 },
 "nbformat": 4,
 "nbformat_minor": 4
}